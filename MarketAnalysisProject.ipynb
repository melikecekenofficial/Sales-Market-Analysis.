{
 "cells": [
  {
   "cell_type": "code",
   "execution_count": 2,
   "id": "0f39e9ac",
   "metadata": {},
   "outputs": [],
   "source": [
    "import pandas as pd\n",
    "import matplotlib.pyplot as plt\n",
    "import seaborn as sns\n",
    "import numpy as np\n",
    "\n",
    "from sklearn.model_selection import train_test_split, GridSearchCV,cross_val_score\n",
    "from sklearn.metrics import mean_squared_error , r2_score\n",
    "\n",
    "from sklearn import model_selection\n",
    "from sklearn.neighbors import KNeighborsClassifier\n",
    "from sklearn.linear_model import LinearRegression\n",
    "from sklearn.feature_selection import f_regression\n",
    "\n",
    "from warnings import filterwarnings\n",
    "filterwarnings('ignore')\n",
    "\n",
    "df=pd.read_csv(r'C:\\Users\\DELL\\Desktop\\supermarket_sales.csv')"
   ]
  },
  {
   "cell_type": "code",
   "execution_count": 190,
   "id": "5d1b3bfe",
   "metadata": {},
   "outputs": [
    {
     "data": {
      "text/html": [
       "<div>\n",
       "<style scoped>\n",
       "    .dataframe tbody tr th:only-of-type {\n",
       "        vertical-align: middle;\n",
       "    }\n",
       "\n",
       "    .dataframe tbody tr th {\n",
       "        vertical-align: top;\n",
       "    }\n",
       "\n",
       "    .dataframe thead th {\n",
       "        text-align: right;\n",
       "    }\n",
       "</style>\n",
       "<table border=\"1\" class=\"dataframe\">\n",
       "  <thead>\n",
       "    <tr style=\"text-align: right;\">\n",
       "      <th></th>\n",
       "      <th>Invoice ID</th>\n",
       "      <th>Branch</th>\n",
       "      <th>City</th>\n",
       "      <th>Customer_type</th>\n",
       "      <th>Gender</th>\n",
       "      <th>Product_line</th>\n",
       "      <th>Unit_price</th>\n",
       "      <th>Quantity</th>\n",
       "      <th>Tax</th>\n",
       "      <th>Total</th>\n",
       "      <th>Date</th>\n",
       "      <th>Time</th>\n",
       "      <th>Payment</th>\n",
       "      <th>cogs</th>\n",
       "      <th>gross margin percentage</th>\n",
       "      <th>gross income</th>\n",
       "      <th>Rating</th>\n",
       "    </tr>\n",
       "  </thead>\n",
       "  <tbody>\n",
       "    <tr>\n",
       "      <th>0</th>\n",
       "      <td>750-67-8428</td>\n",
       "      <td>1</td>\n",
       "      <td>1</td>\n",
       "      <td>1</td>\n",
       "      <td>1</td>\n",
       "      <td>1</td>\n",
       "      <td>74.69</td>\n",
       "      <td>7</td>\n",
       "      <td>26.1415</td>\n",
       "      <td>548.9715</td>\n",
       "      <td>1/5/2019</td>\n",
       "      <td>13:08</td>\n",
       "      <td>1</td>\n",
       "      <td>522.83</td>\n",
       "      <td>4.761905</td>\n",
       "      <td>26.1415</td>\n",
       "      <td>9.1</td>\n",
       "    </tr>\n",
       "    <tr>\n",
       "      <th>1</th>\n",
       "      <td>226-31-3081</td>\n",
       "      <td>2</td>\n",
       "      <td>2</td>\n",
       "      <td>2</td>\n",
       "      <td>1</td>\n",
       "      <td>2</td>\n",
       "      <td>15.28</td>\n",
       "      <td>5</td>\n",
       "      <td>3.8200</td>\n",
       "      <td>80.2200</td>\n",
       "      <td>3/8/2019</td>\n",
       "      <td>10:29</td>\n",
       "      <td>2</td>\n",
       "      <td>76.40</td>\n",
       "      <td>4.761905</td>\n",
       "      <td>3.8200</td>\n",
       "      <td>9.6</td>\n",
       "    </tr>\n",
       "    <tr>\n",
       "      <th>2</th>\n",
       "      <td>631-41-3108</td>\n",
       "      <td>1</td>\n",
       "      <td>1</td>\n",
       "      <td>2</td>\n",
       "      <td>2</td>\n",
       "      <td>3</td>\n",
       "      <td>46.33</td>\n",
       "      <td>7</td>\n",
       "      <td>16.2155</td>\n",
       "      <td>340.5255</td>\n",
       "      <td>3/3/2019</td>\n",
       "      <td>13:23</td>\n",
       "      <td>3</td>\n",
       "      <td>324.31</td>\n",
       "      <td>4.761905</td>\n",
       "      <td>16.2155</td>\n",
       "      <td>7.4</td>\n",
       "    </tr>\n",
       "    <tr>\n",
       "      <th>3</th>\n",
       "      <td>123-19-1176</td>\n",
       "      <td>1</td>\n",
       "      <td>1</td>\n",
       "      <td>1</td>\n",
       "      <td>2</td>\n",
       "      <td>1</td>\n",
       "      <td>58.22</td>\n",
       "      <td>8</td>\n",
       "      <td>23.2880</td>\n",
       "      <td>489.0480</td>\n",
       "      <td>1/27/2019</td>\n",
       "      <td>20:33</td>\n",
       "      <td>1</td>\n",
       "      <td>465.76</td>\n",
       "      <td>4.761905</td>\n",
       "      <td>23.2880</td>\n",
       "      <td>8.4</td>\n",
       "    </tr>\n",
       "    <tr>\n",
       "      <th>4</th>\n",
       "      <td>373-73-7910</td>\n",
       "      <td>1</td>\n",
       "      <td>1</td>\n",
       "      <td>2</td>\n",
       "      <td>2</td>\n",
       "      <td>4</td>\n",
       "      <td>86.31</td>\n",
       "      <td>7</td>\n",
       "      <td>30.2085</td>\n",
       "      <td>634.3785</td>\n",
       "      <td>2/8/2019</td>\n",
       "      <td>10:37</td>\n",
       "      <td>1</td>\n",
       "      <td>604.17</td>\n",
       "      <td>4.761905</td>\n",
       "      <td>30.2085</td>\n",
       "      <td>5.3</td>\n",
       "    </tr>\n",
       "  </tbody>\n",
       "</table>\n",
       "</div>"
      ],
      "text/plain": [
       "    Invoice ID  Branch  City  Customer_type  Gender  Product_line  Unit_price  \\\n",
       "0  750-67-8428       1     1              1       1             1       74.69   \n",
       "1  226-31-3081       2     2              2       1             2       15.28   \n",
       "2  631-41-3108       1     1              2       2             3       46.33   \n",
       "3  123-19-1176       1     1              1       2             1       58.22   \n",
       "4  373-73-7910       1     1              2       2             4       86.31   \n",
       "\n",
       "   Quantity      Tax     Total       Date   Time  Payment    cogs  \\\n",
       "0         7  26.1415  548.9715   1/5/2019  13:08        1  522.83   \n",
       "1         5   3.8200   80.2200   3/8/2019  10:29        2   76.40   \n",
       "2         7  16.2155  340.5255   3/3/2019  13:23        3  324.31   \n",
       "3         8  23.2880  489.0480  1/27/2019  20:33        1  465.76   \n",
       "4         7  30.2085  634.3785   2/8/2019  10:37        1  604.17   \n",
       "\n",
       "   gross margin percentage  gross income  Rating  \n",
       "0                 4.761905       26.1415     9.1  \n",
       "1                 4.761905        3.8200     9.6  \n",
       "2                 4.761905       16.2155     7.4  \n",
       "3                 4.761905       23.2880     8.4  \n",
       "4                 4.761905       30.2085     5.3  "
      ]
     },
     "execution_count": 190,
     "metadata": {},
     "output_type": "execute_result"
    }
   ],
   "source": [
    "df.head()"
   ]
  },
  {
   "cell_type": "code",
   "execution_count": 4,
   "id": "2772d054",
   "metadata": {},
   "outputs": [
    {
     "data": {
      "text/plain": [
       "Invoice ID                  object\n",
       "Branch                      object\n",
       "City                        object\n",
       "Customer type               object\n",
       "Gender                      object\n",
       "Product line                object\n",
       "Unit price                 float64\n",
       "Quantity                     int64\n",
       "Tax 5%                     float64\n",
       "Total                      float64\n",
       "Date                        object\n",
       "Time                        object\n",
       "Payment                     object\n",
       "cogs                       float64\n",
       "gross margin percentage    float64\n",
       "gross income               float64\n",
       "Rating                     float64\n",
       "dtype: object"
      ]
     },
     "execution_count": 4,
     "metadata": {},
     "output_type": "execute_result"
    }
   ],
   "source": [
    "df.dtypes"
   ]
  },
  {
   "cell_type": "code",
   "execution_count": 5,
   "id": "a4fa2e3d",
   "metadata": {},
   "outputs": [
    {
     "data": {
      "text/plain": [
       "<bound method DataFrame.info of       Invoice ID Branch       City Customer type  Gender  \\\n",
       "0    750-67-8428      A     Yangon        Member  Female   \n",
       "1    226-31-3081      C  Naypyitaw        Normal  Female   \n",
       "2    631-41-3108      A     Yangon        Normal    Male   \n",
       "3    123-19-1176      A     Yangon        Member    Male   \n",
       "4    373-73-7910      A     Yangon        Normal    Male   \n",
       "..           ...    ...        ...           ...     ...   \n",
       "995  233-67-5758      C  Naypyitaw        Normal    Male   \n",
       "996  303-96-2227      B   Mandalay        Normal  Female   \n",
       "997  727-02-1313      A     Yangon        Member    Male   \n",
       "998  347-56-2442      A     Yangon        Normal    Male   \n",
       "999  849-09-3807      A     Yangon        Member  Female   \n",
       "\n",
       "               Product line  Unit price  Quantity   Tax 5%      Total  \\\n",
       "0         Health and beauty       74.69         7  26.1415   548.9715   \n",
       "1    Electronic accessories       15.28         5   3.8200    80.2200   \n",
       "2        Home and lifestyle       46.33         7  16.2155   340.5255   \n",
       "3         Health and beauty       58.22         8  23.2880   489.0480   \n",
       "4         Sports and travel       86.31         7  30.2085   634.3785   \n",
       "..                      ...         ...       ...      ...        ...   \n",
       "995       Health and beauty       40.35         1   2.0175    42.3675   \n",
       "996      Home and lifestyle       97.38        10  48.6900  1022.4900   \n",
       "997      Food and beverages       31.84         1   1.5920    33.4320   \n",
       "998      Home and lifestyle       65.82         1   3.2910    69.1110   \n",
       "999     Fashion accessories       88.34         7  30.9190   649.2990   \n",
       "\n",
       "          Date   Time      Payment    cogs  gross margin percentage  \\\n",
       "0     1/5/2019  13:08      Ewallet  522.83                 4.761905   \n",
       "1     3/8/2019  10:29         Cash   76.40                 4.761905   \n",
       "2     3/3/2019  13:23  Credit card  324.31                 4.761905   \n",
       "3    1/27/2019  20:33      Ewallet  465.76                 4.761905   \n",
       "4     2/8/2019  10:37      Ewallet  604.17                 4.761905   \n",
       "..         ...    ...          ...     ...                      ...   \n",
       "995  1/29/2019  13:46      Ewallet   40.35                 4.761905   \n",
       "996   3/2/2019  17:16      Ewallet  973.80                 4.761905   \n",
       "997   2/9/2019  13:22         Cash   31.84                 4.761905   \n",
       "998  2/22/2019  15:33         Cash   65.82                 4.761905   \n",
       "999  2/18/2019  13:28         Cash  618.38                 4.761905   \n",
       "\n",
       "     gross income  Rating  \n",
       "0         26.1415     9.1  \n",
       "1          3.8200     9.6  \n",
       "2         16.2155     7.4  \n",
       "3         23.2880     8.4  \n",
       "4         30.2085     5.3  \n",
       "..            ...     ...  \n",
       "995        2.0175     6.2  \n",
       "996       48.6900     4.4  \n",
       "997        1.5920     7.7  \n",
       "998        3.2910     4.1  \n",
       "999       30.9190     6.6  \n",
       "\n",
       "[1000 rows x 17 columns]>"
      ]
     },
     "execution_count": 5,
     "metadata": {},
     "output_type": "execute_result"
    }
   ],
   "source": [
    "df.info"
   ]
  },
  {
   "cell_type": "code",
   "execution_count": 6,
   "id": "41b2d146",
   "metadata": {},
   "outputs": [
    {
     "data": {
      "text/html": [
       "<div>\n",
       "<style scoped>\n",
       "    .dataframe tbody tr th:only-of-type {\n",
       "        vertical-align: middle;\n",
       "    }\n",
       "\n",
       "    .dataframe tbody tr th {\n",
       "        vertical-align: top;\n",
       "    }\n",
       "\n",
       "    .dataframe thead th {\n",
       "        text-align: right;\n",
       "    }\n",
       "</style>\n",
       "<table border=\"1\" class=\"dataframe\">\n",
       "  <thead>\n",
       "    <tr style=\"text-align: right;\">\n",
       "      <th></th>\n",
       "      <th>count</th>\n",
       "      <th>mean</th>\n",
       "      <th>std</th>\n",
       "      <th>min</th>\n",
       "      <th>25%</th>\n",
       "      <th>50%</th>\n",
       "      <th>75%</th>\n",
       "      <th>max</th>\n",
       "    </tr>\n",
       "  </thead>\n",
       "  <tbody>\n",
       "    <tr>\n",
       "      <th>Unit price</th>\n",
       "      <td>1000.0</td>\n",
       "      <td>55.672130</td>\n",
       "      <td>2.649463e+01</td>\n",
       "      <td>10.080000</td>\n",
       "      <td>32.875000</td>\n",
       "      <td>55.230000</td>\n",
       "      <td>77.935000</td>\n",
       "      <td>99.960000</td>\n",
       "    </tr>\n",
       "    <tr>\n",
       "      <th>Quantity</th>\n",
       "      <td>1000.0</td>\n",
       "      <td>5.510000</td>\n",
       "      <td>2.923431e+00</td>\n",
       "      <td>1.000000</td>\n",
       "      <td>3.000000</td>\n",
       "      <td>5.000000</td>\n",
       "      <td>8.000000</td>\n",
       "      <td>10.000000</td>\n",
       "    </tr>\n",
       "    <tr>\n",
       "      <th>Tax 5%</th>\n",
       "      <td>1000.0</td>\n",
       "      <td>15.379369</td>\n",
       "      <td>1.170883e+01</td>\n",
       "      <td>0.508500</td>\n",
       "      <td>5.924875</td>\n",
       "      <td>12.088000</td>\n",
       "      <td>22.445250</td>\n",
       "      <td>49.650000</td>\n",
       "    </tr>\n",
       "    <tr>\n",
       "      <th>Total</th>\n",
       "      <td>1000.0</td>\n",
       "      <td>322.966749</td>\n",
       "      <td>2.458853e+02</td>\n",
       "      <td>10.678500</td>\n",
       "      <td>124.422375</td>\n",
       "      <td>253.848000</td>\n",
       "      <td>471.350250</td>\n",
       "      <td>1042.650000</td>\n",
       "    </tr>\n",
       "    <tr>\n",
       "      <th>cogs</th>\n",
       "      <td>1000.0</td>\n",
       "      <td>307.587380</td>\n",
       "      <td>2.341765e+02</td>\n",
       "      <td>10.170000</td>\n",
       "      <td>118.497500</td>\n",
       "      <td>241.760000</td>\n",
       "      <td>448.905000</td>\n",
       "      <td>993.000000</td>\n",
       "    </tr>\n",
       "    <tr>\n",
       "      <th>gross margin percentage</th>\n",
       "      <td>1000.0</td>\n",
       "      <td>4.761905</td>\n",
       "      <td>6.131498e-14</td>\n",
       "      <td>4.761905</td>\n",
       "      <td>4.761905</td>\n",
       "      <td>4.761905</td>\n",
       "      <td>4.761905</td>\n",
       "      <td>4.761905</td>\n",
       "    </tr>\n",
       "    <tr>\n",
       "      <th>gross income</th>\n",
       "      <td>1000.0</td>\n",
       "      <td>15.379369</td>\n",
       "      <td>1.170883e+01</td>\n",
       "      <td>0.508500</td>\n",
       "      <td>5.924875</td>\n",
       "      <td>12.088000</td>\n",
       "      <td>22.445250</td>\n",
       "      <td>49.650000</td>\n",
       "    </tr>\n",
       "    <tr>\n",
       "      <th>Rating</th>\n",
       "      <td>1000.0</td>\n",
       "      <td>6.972700</td>\n",
       "      <td>1.718580e+00</td>\n",
       "      <td>4.000000</td>\n",
       "      <td>5.500000</td>\n",
       "      <td>7.000000</td>\n",
       "      <td>8.500000</td>\n",
       "      <td>10.000000</td>\n",
       "    </tr>\n",
       "  </tbody>\n",
       "</table>\n",
       "</div>"
      ],
      "text/plain": [
       "                          count        mean           std        min  \\\n",
       "Unit price               1000.0   55.672130  2.649463e+01  10.080000   \n",
       "Quantity                 1000.0    5.510000  2.923431e+00   1.000000   \n",
       "Tax 5%                   1000.0   15.379369  1.170883e+01   0.508500   \n",
       "Total                    1000.0  322.966749  2.458853e+02  10.678500   \n",
       "cogs                     1000.0  307.587380  2.341765e+02  10.170000   \n",
       "gross margin percentage  1000.0    4.761905  6.131498e-14   4.761905   \n",
       "gross income             1000.0   15.379369  1.170883e+01   0.508500   \n",
       "Rating                   1000.0    6.972700  1.718580e+00   4.000000   \n",
       "\n",
       "                                25%         50%         75%          max  \n",
       "Unit price                32.875000   55.230000   77.935000    99.960000  \n",
       "Quantity                   3.000000    5.000000    8.000000    10.000000  \n",
       "Tax 5%                     5.924875   12.088000   22.445250    49.650000  \n",
       "Total                    124.422375  253.848000  471.350250  1042.650000  \n",
       "cogs                     118.497500  241.760000  448.905000   993.000000  \n",
       "gross margin percentage    4.761905    4.761905    4.761905     4.761905  \n",
       "gross income               5.924875   12.088000   22.445250    49.650000  \n",
       "Rating                     5.500000    7.000000    8.500000    10.000000  "
      ]
     },
     "execution_count": 6,
     "metadata": {},
     "output_type": "execute_result"
    }
   ],
   "source": [
    "df.describe().T"
   ]
  },
  {
   "cell_type": "code",
   "execution_count": null,
   "id": "9dbf1bb6",
   "metadata": {},
   "outputs": [],
   "source": [
    "%matplotlib inline"
   ]
  },
  {
   "cell_type": "code",
   "execution_count": 7,
   "id": "53f110da",
   "metadata": {},
   "outputs": [
    {
     "data": {
      "image/png": "[encoded data removed]",
      "text/plain": [
       "<Figure size 432x288 with 1 Axes>"
      ]
     },
     "metadata": {},
     "output_type": "display_data"
    }
   ],
   "source": [
    "df.Gender.value_counts().plot(kind = \"pie\", autopct = \"%.1f%%\")\n",
    "plt.ylabel(\"CİNSİYET\");"
   ]
  },
  {
   "cell_type": "code",
   "execution_count": 8,
   "id": "59fcf5e2",
   "metadata": {},
   "outputs": [
    {
     "data": {
      "image/png": "[encoded data removed]",
      "text/plain": [
       "<Figure size 432x288 with 1 Axes>"
      ]
     },
     "metadata": {},
     "output_type": "display_data"
    }
   ],
   "source": [
    "df.City.value_counts().plot(kind = \"pie\", autopct = \"%.1f%%\")\n",
    "plt.ylabel(\"\");"
   ]
  },
  {
   "cell_type": "code",
   "execution_count": 9,
   "id": "f614433f",
   "metadata": {},
   "outputs": [
    {
     "data": {
      "image/png": "[encoded data removed]",
      "text/plain": [
       "<Figure size 432x288 with 1 Axes>"
      ]
     },
     "metadata": {},
     "output_type": "display_data"
    }
   ],
   "source": [
    "df.Branch.value_counts().plot(kind = \"pie\", autopct = \"%.1f%%\")\n",
    "plt.ylabel(\"Dal\");"
   ]
  },
  {
   "cell_type": "code",
   "execution_count": 10,
   "id": "0a03999b",
   "metadata": {},
   "outputs": [
    {
     "data": {
      "image/png": "[encoded data removed]",
      "text/plain": [
       "<Figure size 432x288 with 1 Axes>"
      ]
     },
     "metadata": {},
     "output_type": "display_data"
    }
   ],
   "source": [
    "df.Branch.value_counts().plot(kind = \"pie\", autopct = \"%.1f%%\")\n",
    "plt.ylabel(\"Dal\");"
   ]
  },
  {
   "cell_type": "code",
   "execution_count": 11,
   "id": "49d727b5",
   "metadata": {},
   "outputs": [],
   "source": [
    "df.rename(columns = {\"Product line\": \"Product_line\"\n",
    "                    }, inplace = True)"
   ]
  },
  {
   "cell_type": "code",
   "execution_count": 12,
   "id": "a4256086",
   "metadata": {},
   "outputs": [
    {
     "data": {
      "image/png": "[encoded data removed]",
      "text/plain": [
       "<Figure size 432x288 with 1 Axes>"
      ]
     },
     "metadata": {},
     "output_type": "display_data"
    }
   ],
   "source": [
    "df.Product_line.value_counts().plot(kind = \"pie\", autopct = \"%.1f%%\")\n",
    "plt.ylabel(\"Ürün Hattı\");"
   ]
  },
  {
   "cell_type": "code",
   "execution_count": 13,
   "id": "3398d388",
   "metadata": {},
   "outputs": [
    {
     "data": {
      "image/png": "[encoded data removed]",
      "text/plain": [
       "<Figure size 432x288 with 1 Axes>"
      ]
     },
     "metadata": {},
     "output_type": "display_data"
    }
   ],
   "source": [
    "df.Payment.value_counts().plot(kind = \"pie\", autopct = \"%.1f%%\")\n",
    "plt.ylabel(\"Ödeme\");"
   ]
  },
  {
   "cell_type": "code",
   "execution_count": 14,
   "id": "37cbcb61",
   "metadata": {},
   "outputs": [
    {
     "data": {
      "image/png": "[encoded data removed]",
      "text/plain": [
       "<Figure size 432x288 with 1 Axes>"
      ]
     },
     "metadata": {
      "needs_background": "light"
     },
     "output_type": "display_data"
    }
   ],
   "source": [
    "sns.barplot(x = \"Quantity\" , y= \"Product_line\" , data =df);"
   ]
  },
  {
   "cell_type": "code",
   "execution_count": 15,
   "id": "d79df599",
   "metadata": {},
   "outputs": [
    {
     "data": {
      "image/png": "[encoded data removed]",
      "text/plain": [
       "<Figure size 432x288 with 1 Axes>"
      ]
     },
     "metadata": {
      "needs_background": "light"
     },
     "output_type": "display_data"
    }
   ],
   "source": [
    "sns.barplot(x = \"Gender\" , y= \"Quantity\" , data =df);"
   ]
  },
  {
   "cell_type": "code",
   "execution_count": 16,
   "id": "32edba48",
   "metadata": {},
   "outputs": [
    {
     "data": {
      "image/png": "[encoded data removed]",
      "text/plain": [
       "<Figure size 432x288 with 1 Axes>"
      ]
     },
     "metadata": {
      "needs_background": "light"
     },
     "output_type": "display_data"
    }
   ],
   "source": [
    "sns.barplot(x = \"Gender\" , y= \"Quantity\" , hue = \"Product_line\" , data =df);"
   ]
  },
  {
   "cell_type": "code",
   "execution_count": 17,
   "id": "465d607d",
   "metadata": {},
   "outputs": [],
   "source": [
    "df.rename(columns = {\"Tax 5%\": \"Tax\"\n",
    "                    }, inplace = True)"
   ]
  },
  {
   "cell_type": "code",
   "execution_count": 18,
   "id": "e8a96683",
   "metadata": {},
   "outputs": [
    {
     "data": {
      "image/png": "[encoded data removed]",
      "text/plain": [
       "<Figure size 432x288 with 1 Axes>"
      ]
     },
     "metadata": {
      "needs_background": "light"
     },
     "output_type": "display_data"
    }
   ],
   "source": [
    "sns.barplot(x = \"Gender\" , y= \"Tax\" , data =df);"
   ]
  },
  {
   "cell_type": "code",
   "execution_count": 19,
   "id": "ccb0c09d",
   "metadata": {},
   "outputs": [
    {
     "data": {
      "image/png": "[encoded data removed]",
      "text/plain": [
       "<Figure size 432x288 with 1 Axes>"
      ]
     },
     "metadata": {
      "needs_background": "light"
     },
     "output_type": "display_data"
    }
   ],
   "source": [
    "sns.barplot(x = \"Gender\" , y= \"Rating\" , hue = \"Product_line\" , data =df);"
   ]
  },
  {
   "cell_type": "code",
   "execution_count": 20,
   "id": "9d13eb0a",
   "metadata": {},
   "outputs": [
    {
     "data": {
      "text/html": [
       "<div>\n",
       "<style scoped>\n",
       "    .dataframe tbody tr th:only-of-type {\n",
       "        vertical-align: middle;\n",
       "    }\n",
       "\n",
       "    .dataframe tbody tr th {\n",
       "        vertical-align: top;\n",
       "    }\n",
       "\n",
       "    .dataframe thead th {\n",
       "        text-align: right;\n",
       "    }\n",
       "</style>\n",
       "<table border=\"1\" class=\"dataframe\">\n",
       "  <thead>\n",
       "    <tr style=\"text-align: right;\">\n",
       "      <th></th>\n",
       "      <th>Invoice ID</th>\n",
       "      <th>Branch</th>\n",
       "      <th>City</th>\n",
       "      <th>Customer type</th>\n",
       "      <th>Gender</th>\n",
       "      <th>Product_line</th>\n",
       "      <th>Unit price</th>\n",
       "      <th>Quantity</th>\n",
       "      <th>Tax</th>\n",
       "      <th>Total</th>\n",
       "      <th>Date</th>\n",
       "      <th>Time</th>\n",
       "      <th>Payment</th>\n",
       "      <th>cogs</th>\n",
       "      <th>gross margin percentage</th>\n",
       "      <th>gross income</th>\n",
       "      <th>Rating</th>\n",
       "    </tr>\n",
       "  </thead>\n",
       "  <tbody>\n",
       "    <tr>\n",
       "      <th>0</th>\n",
       "      <td>750-67-8428</td>\n",
       "      <td>A</td>\n",
       "      <td>Yangon</td>\n",
       "      <td>Member</td>\n",
       "      <td>Female</td>\n",
       "      <td>Health and beauty</td>\n",
       "      <td>74.69</td>\n",
       "      <td>7</td>\n",
       "      <td>26.1415</td>\n",
       "      <td>548.9715</td>\n",
       "      <td>1/5/2019</td>\n",
       "      <td>13:08</td>\n",
       "      <td>Ewallet</td>\n",
       "      <td>522.83</td>\n",
       "      <td>4.761905</td>\n",
       "      <td>26.1415</td>\n",
       "      <td>9.1</td>\n",
       "    </tr>\n",
       "    <tr>\n",
       "      <th>1</th>\n",
       "      <td>226-31-3081</td>\n",
       "      <td>C</td>\n",
       "      <td>Naypyitaw</td>\n",
       "      <td>Normal</td>\n",
       "      <td>Female</td>\n",
       "      <td>Electronic accessories</td>\n",
       "      <td>15.28</td>\n",
       "      <td>5</td>\n",
       "      <td>3.8200</td>\n",
       "      <td>80.2200</td>\n",
       "      <td>3/8/2019</td>\n",
       "      <td>10:29</td>\n",
       "      <td>Cash</td>\n",
       "      <td>76.40</td>\n",
       "      <td>4.761905</td>\n",
       "      <td>3.8200</td>\n",
       "      <td>9.6</td>\n",
       "    </tr>\n",
       "    <tr>\n",
       "      <th>2</th>\n",
       "      <td>631-41-3108</td>\n",
       "      <td>A</td>\n",
       "      <td>Yangon</td>\n",
       "      <td>Normal</td>\n",
       "      <td>Male</td>\n",
       "      <td>Home and lifestyle</td>\n",
       "      <td>46.33</td>\n",
       "      <td>7</td>\n",
       "      <td>16.2155</td>\n",
       "      <td>340.5255</td>\n",
       "      <td>3/3/2019</td>\n",
       "      <td>13:23</td>\n",
       "      <td>Credit card</td>\n",
       "      <td>324.31</td>\n",
       "      <td>4.761905</td>\n",
       "      <td>16.2155</td>\n",
       "      <td>7.4</td>\n",
       "    </tr>\n",
       "    <tr>\n",
       "      <th>3</th>\n",
       "      <td>123-19-1176</td>\n",
       "      <td>A</td>\n",
       "      <td>Yangon</td>\n",
       "      <td>Member</td>\n",
       "      <td>Male</td>\n",
       "      <td>Health and beauty</td>\n",
       "      <td>58.22</td>\n",
       "      <td>8</td>\n",
       "      <td>23.2880</td>\n",
       "      <td>489.0480</td>\n",
       "      <td>1/27/2019</td>\n",
       "      <td>20:33</td>\n",
       "      <td>Ewallet</td>\n",
       "      <td>465.76</td>\n",
       "      <td>4.761905</td>\n",
       "      <td>23.2880</td>\n",
       "      <td>8.4</td>\n",
       "    </tr>\n",
       "    <tr>\n",
       "      <th>4</th>\n",
       "      <td>373-73-7910</td>\n",
       "      <td>A</td>\n",
       "      <td>Yangon</td>\n",
       "      <td>Normal</td>\n",
       "      <td>Male</td>\n",
       "      <td>Sports and travel</td>\n",
       "      <td>86.31</td>\n",
       "      <td>7</td>\n",
       "      <td>30.2085</td>\n",
       "      <td>634.3785</td>\n",
       "      <td>2/8/2019</td>\n",
       "      <td>10:37</td>\n",
       "      <td>Ewallet</td>\n",
       "      <td>604.17</td>\n",
       "      <td>4.761905</td>\n",
       "      <td>30.2085</td>\n",
       "      <td>5.3</td>\n",
       "    </tr>\n",
       "  </tbody>\n",
       "</table>\n",
       "</div>"
      ],
      "text/plain": [
       "    Invoice ID Branch       City Customer type  Gender  \\\n",
       "0  750-67-8428      A     Yangon        Member  Female   \n",
       "1  226-31-3081      C  Naypyitaw        Normal  Female   \n",
       "2  631-41-3108      A     Yangon        Normal    Male   \n",
       "3  123-19-1176      A     Yangon        Member    Male   \n",
       "4  373-73-7910      A     Yangon        Normal    Male   \n",
       "\n",
       "             Product_line  Unit price  Quantity      Tax     Total       Date  \\\n",
       "0       Health and beauty       74.69         7  26.1415  548.9715   1/5/2019   \n",
       "1  Electronic accessories       15.28         5   3.8200   80.2200   3/8/2019   \n",
       "2      Home and lifestyle       46.33         7  16.2155  340.5255   3/3/2019   \n",
       "3       Health and beauty       58.22         8  23.2880  489.0480  1/27/2019   \n",
       "4       Sports and travel       86.31         7  30.2085  634.3785   2/8/2019   \n",
       "\n",
       "    Time      Payment    cogs  gross margin percentage  gross income  Rating  \n",
       "0  13:08      Ewallet  522.83                 4.761905       26.1415     9.1  \n",
       "1  10:29         Cash   76.40                 4.761905        3.8200     9.6  \n",
       "2  13:23  Credit card  324.31                 4.761905       16.2155     7.4  \n",
       "3  20:33      Ewallet  465.76                 4.761905       23.2880     8.4  \n",
       "4  10:37      Ewallet  604.17                 4.761905       30.2085     5.3  "
      ]
     },
     "execution_count": 20,
     "metadata": {},
     "output_type": "execute_result"
    }
   ],
   "source": [
    "df.head()"
   ]
  },
  {
   "cell_type": "code",
   "execution_count": 21,
   "id": "0f35744a",
   "metadata": {},
   "outputs": [],
   "source": [
    "df.rename(columns = {\"Unit price\": \"Unit_price\"\n",
    "                    }, inplace = True)"
   ]
  },
  {
   "cell_type": "code",
   "execution_count": 22,
   "id": "66d2aa14",
   "metadata": {},
   "outputs": [
    {
     "data": {
      "image/png": "[encoded data removed]",
      "text/plain": [
       "<Figure size 432x288 with 1 Axes>"
      ]
     },
     "metadata": {
      "needs_background": "light"
     },
     "output_type": "display_data"
    }
   ],
   "source": [
    "sns.barplot(x = \"Payment\", y= \"Unit_price\" , hue = \"Gender\" , data =df);"
   ]
  },
  {
   "cell_type": "code",
   "execution_count": 24,
   "id": "f684f344",
   "metadata": {},
   "outputs": [],
   "source": [
    "# gender makine öğrenmesi için veri ön işlemesi string ifadeleri \n",
    "# sayısal ifadelere çevirme"
   ]
  },
  {
   "cell_type": "code",
   "execution_count": 25,
   "id": "1b43ef4f",
   "metadata": {},
   "outputs": [],
   "source": [
    "df[\"Gender\"] = df.Gender.map({\"Female\" : 1, \"Male\":2})"
   ]
  },
  {
   "cell_type": "code",
   "execution_count": 26,
   "id": "94385d59",
   "metadata": {},
   "outputs": [
    {
     "data": {
      "text/html": [
       "<div>\n",
       "<style scoped>\n",
       "    .dataframe tbody tr th:only-of-type {\n",
       "        vertical-align: middle;\n",
       "    }\n",
       "\n",
       "    .dataframe tbody tr th {\n",
       "        vertical-align: top;\n",
       "    }\n",
       "\n",
       "    .dataframe thead th {\n",
       "        text-align: right;\n",
       "    }\n",
       "</style>\n",
       "<table border=\"1\" class=\"dataframe\">\n",
       "  <thead>\n",
       "    <tr style=\"text-align: right;\">\n",
       "      <th></th>\n",
       "      <th>Invoice ID</th>\n",
       "      <th>Branch</th>\n",
       "      <th>City</th>\n",
       "      <th>Customer type</th>\n",
       "      <th>Gender</th>\n",
       "      <th>Product_line</th>\n",
       "      <th>Unit_price</th>\n",
       "      <th>Quantity</th>\n",
       "      <th>Tax</th>\n",
       "      <th>Total</th>\n",
       "      <th>Date</th>\n",
       "      <th>Time</th>\n",
       "      <th>Payment</th>\n",
       "      <th>cogs</th>\n",
       "      <th>gross margin percentage</th>\n",
       "      <th>gross income</th>\n",
       "      <th>Rating</th>\n",
       "    </tr>\n",
       "  </thead>\n",
       "  <tbody>\n",
       "    <tr>\n",
       "      <th>0</th>\n",
       "      <td>750-67-8428</td>\n",
       "      <td>A</td>\n",
       "      <td>Yangon</td>\n",
       "      <td>Member</td>\n",
       "      <td>1</td>\n",
       "      <td>Health and beauty</td>\n",
       "      <td>74.69</td>\n",
       "      <td>7</td>\n",
       "      <td>26.1415</td>\n",
       "      <td>548.9715</td>\n",
       "      <td>1/5/2019</td>\n",
       "      <td>13:08</td>\n",
       "      <td>Ewallet</td>\n",
       "      <td>522.83</td>\n",
       "      <td>4.761905</td>\n",
       "      <td>26.1415</td>\n",
       "      <td>9.1</td>\n",
       "    </tr>\n",
       "    <tr>\n",
       "      <th>1</th>\n",
       "      <td>226-31-3081</td>\n",
       "      <td>C</td>\n",
       "      <td>Naypyitaw</td>\n",
       "      <td>Normal</td>\n",
       "      <td>1</td>\n",
       "      <td>Electronic accessories</td>\n",
       "      <td>15.28</td>\n",
       "      <td>5</td>\n",
       "      <td>3.8200</td>\n",
       "      <td>80.2200</td>\n",
       "      <td>3/8/2019</td>\n",
       "      <td>10:29</td>\n",
       "      <td>Cash</td>\n",
       "      <td>76.40</td>\n",
       "      <td>4.761905</td>\n",
       "      <td>3.8200</td>\n",
       "      <td>9.6</td>\n",
       "    </tr>\n",
       "    <tr>\n",
       "      <th>2</th>\n",
       "      <td>631-41-3108</td>\n",
       "      <td>A</td>\n",
       "      <td>Yangon</td>\n",
       "      <td>Normal</td>\n",
       "      <td>2</td>\n",
       "      <td>Home and lifestyle</td>\n",
       "      <td>46.33</td>\n",
       "      <td>7</td>\n",
       "      <td>16.2155</td>\n",
       "      <td>340.5255</td>\n",
       "      <td>3/3/2019</td>\n",
       "      <td>13:23</td>\n",
       "      <td>Credit card</td>\n",
       "      <td>324.31</td>\n",
       "      <td>4.761905</td>\n",
       "      <td>16.2155</td>\n",
       "      <td>7.4</td>\n",
       "    </tr>\n",
       "    <tr>\n",
       "      <th>3</th>\n",
       "      <td>123-19-1176</td>\n",
       "      <td>A</td>\n",
       "      <td>Yangon</td>\n",
       "      <td>Member</td>\n",
       "      <td>2</td>\n",
       "      <td>Health and beauty</td>\n",
       "      <td>58.22</td>\n",
       "      <td>8</td>\n",
       "      <td>23.2880</td>\n",
       "      <td>489.0480</td>\n",
       "      <td>1/27/2019</td>\n",
       "      <td>20:33</td>\n",
       "      <td>Ewallet</td>\n",
       "      <td>465.76</td>\n",
       "      <td>4.761905</td>\n",
       "      <td>23.2880</td>\n",
       "      <td>8.4</td>\n",
       "    </tr>\n",
       "    <tr>\n",
       "      <th>4</th>\n",
       "      <td>373-73-7910</td>\n",
       "      <td>A</td>\n",
       "      <td>Yangon</td>\n",
       "      <td>Normal</td>\n",
       "      <td>2</td>\n",
       "      <td>Sports and travel</td>\n",
       "      <td>86.31</td>\n",
       "      <td>7</td>\n",
       "      <td>30.2085</td>\n",
       "      <td>634.3785</td>\n",
       "      <td>2/8/2019</td>\n",
       "      <td>10:37</td>\n",
       "      <td>Ewallet</td>\n",
       "      <td>604.17</td>\n",
       "      <td>4.761905</td>\n",
       "      <td>30.2085</td>\n",
       "      <td>5.3</td>\n",
       "    </tr>\n",
       "  </tbody>\n",
       "</table>\n",
       "</div>"
      ],
      "text/plain": [
       "    Invoice ID Branch       City Customer type  Gender  \\\n",
       "0  750-67-8428      A     Yangon        Member       1   \n",
       "1  226-31-3081      C  Naypyitaw        Normal       1   \n",
       "2  631-41-3108      A     Yangon        Normal       2   \n",
       "3  123-19-1176      A     Yangon        Member       2   \n",
       "4  373-73-7910      A     Yangon        Normal       2   \n",
       "\n",
       "             Product_line  Unit_price  Quantity      Tax     Total       Date  \\\n",
       "0       Health and beauty       74.69         7  26.1415  548.9715   1/5/2019   \n",
       "1  Electronic accessories       15.28         5   3.8200   80.2200   3/8/2019   \n",
       "2      Home and lifestyle       46.33         7  16.2155  340.5255   3/3/2019   \n",
       "3       Health and beauty       58.22         8  23.2880  489.0480  1/27/2019   \n",
       "4       Sports and travel       86.31         7  30.2085  634.3785   2/8/2019   \n",
       "\n",
       "    Time      Payment    cogs  gross margin percentage  gross income  Rating  \n",
       "0  13:08      Ewallet  522.83                 4.761905       26.1415     9.1  \n",
       "1  10:29         Cash   76.40                 4.761905        3.8200     9.6  \n",
       "2  13:23  Credit card  324.31                 4.761905       16.2155     7.4  \n",
       "3  20:33      Ewallet  465.76                 4.761905       23.2880     8.4  \n",
       "4  10:37      Ewallet  604.17                 4.761905       30.2085     5.3  "
      ]
     },
     "execution_count": 26,
     "metadata": {},
     "output_type": "execute_result"
    }
   ],
   "source": [
    "df.head()"
   ]
  },
  {
   "cell_type": "code",
   "execution_count": 27,
   "id": "382f5f82",
   "metadata": {},
   "outputs": [],
   "source": [
    "df.rename(columns = {\"Product line\": \"Product_line\"\n",
    "                    }, inplace = True)"
   ]
  },
  {
   "cell_type": "code",
   "execution_count": 28,
   "id": "a1cad131",
   "metadata": {},
   "outputs": [
    {
     "data": {
      "text/plain": [
       "array(['Health and beauty', 'Electronic accessories',\n",
       "       'Home and lifestyle', 'Sports and travel', 'Food and beverages',\n",
       "       'Fashion accessories'], dtype=object)"
      ]
     },
     "execution_count": 28,
     "metadata": {},
     "output_type": "execute_result"
    }
   ],
   "source": [
    "df.Product_line.unique()"
   ]
  },
  {
   "cell_type": "code",
   "execution_count": 29,
   "id": "c5098205",
   "metadata": {},
   "outputs": [],
   "source": [
    "df[\"Product_line\"] = df.Product_line.map({\"Health and beauty\": 1, \"Electronic accessories\" :2, \"Home and lifestyle\": 3,\n",
    "                     \"Sports and travel\": 4, \"Food and beverages\":5, \"Fashion accessories\" : 6})"
   ]
  },
  {
   "cell_type": "code",
   "execution_count": 30,
   "id": "658be29c",
   "metadata": {},
   "outputs": [
    {
     "data": {
      "text/html": [
       "<div>\n",
       "<style scoped>\n",
       "    .dataframe tbody tr th:only-of-type {\n",
       "        vertical-align: middle;\n",
       "    }\n",
       "\n",
       "    .dataframe tbody tr th {\n",
       "        vertical-align: top;\n",
       "    }\n",
       "\n",
       "    .dataframe thead th {\n",
       "        text-align: right;\n",
       "    }\n",
       "</style>\n",
       "<table border=\"1\" class=\"dataframe\">\n",
       "  <thead>\n",
       "    <tr style=\"text-align: right;\">\n",
       "      <th></th>\n",
       "      <th>Invoice ID</th>\n",
       "      <th>Branch</th>\n",
       "      <th>City</th>\n",
       "      <th>Customer type</th>\n",
       "      <th>Gender</th>\n",
       "      <th>Product_line</th>\n",
       "      <th>Unit_price</th>\n",
       "      <th>Quantity</th>\n",
       "      <th>Tax</th>\n",
       "      <th>Total</th>\n",
       "      <th>Date</th>\n",
       "      <th>Time</th>\n",
       "      <th>Payment</th>\n",
       "      <th>cogs</th>\n",
       "      <th>gross margin percentage</th>\n",
       "      <th>gross income</th>\n",
       "      <th>Rating</th>\n",
       "    </tr>\n",
       "  </thead>\n",
       "  <tbody>\n",
       "    <tr>\n",
       "      <th>0</th>\n",
       "      <td>750-67-8428</td>\n",
       "      <td>A</td>\n",
       "      <td>Yangon</td>\n",
       "      <td>Member</td>\n",
       "      <td>1</td>\n",
       "      <td>1</td>\n",
       "      <td>74.69</td>\n",
       "      <td>7</td>\n",
       "      <td>26.1415</td>\n",
       "      <td>548.9715</td>\n",
       "      <td>1/5/2019</td>\n",
       "      <td>13:08</td>\n",
       "      <td>Ewallet</td>\n",
       "      <td>522.83</td>\n",
       "      <td>4.761905</td>\n",
       "      <td>26.1415</td>\n",
       "      <td>9.1</td>\n",
       "    </tr>\n",
       "    <tr>\n",
       "      <th>1</th>\n",
       "      <td>226-31-3081</td>\n",
       "      <td>C</td>\n",
       "      <td>Naypyitaw</td>\n",
       "      <td>Normal</td>\n",
       "      <td>1</td>\n",
       "      <td>2</td>\n",
       "      <td>15.28</td>\n",
       "      <td>5</td>\n",
       "      <td>3.8200</td>\n",
       "      <td>80.2200</td>\n",
       "      <td>3/8/2019</td>\n",
       "      <td>10:29</td>\n",
       "      <td>Cash</td>\n",
       "      <td>76.40</td>\n",
       "      <td>4.761905</td>\n",
       "      <td>3.8200</td>\n",
       "      <td>9.6</td>\n",
       "    </tr>\n",
       "    <tr>\n",
       "      <th>2</th>\n",
       "      <td>631-41-3108</td>\n",
       "      <td>A</td>\n",
       "      <td>Yangon</td>\n",
       "      <td>Normal</td>\n",
       "      <td>2</td>\n",
       "      <td>3</td>\n",
       "      <td>46.33</td>\n",
       "      <td>7</td>\n",
       "      <td>16.2155</td>\n",
       "      <td>340.5255</td>\n",
       "      <td>3/3/2019</td>\n",
       "      <td>13:23</td>\n",
       "      <td>Credit card</td>\n",
       "      <td>324.31</td>\n",
       "      <td>4.761905</td>\n",
       "      <td>16.2155</td>\n",
       "      <td>7.4</td>\n",
       "    </tr>\n",
       "    <tr>\n",
       "      <th>3</th>\n",
       "      <td>123-19-1176</td>\n",
       "      <td>A</td>\n",
       "      <td>Yangon</td>\n",
       "      <td>Member</td>\n",
       "      <td>2</td>\n",
       "      <td>1</td>\n",
       "      <td>58.22</td>\n",
       "      <td>8</td>\n",
       "      <td>23.2880</td>\n",
       "      <td>489.0480</td>\n",
       "      <td>1/27/2019</td>\n",
       "      <td>20:33</td>\n",
       "      <td>Ewallet</td>\n",
       "      <td>465.76</td>\n",
       "      <td>4.761905</td>\n",
       "      <td>23.2880</td>\n",
       "      <td>8.4</td>\n",
       "    </tr>\n",
       "    <tr>\n",
       "      <th>4</th>\n",
       "      <td>373-73-7910</td>\n",
       "      <td>A</td>\n",
       "      <td>Yangon</td>\n",
       "      <td>Normal</td>\n",
       "      <td>2</td>\n",
       "      <td>4</td>\n",
       "      <td>86.31</td>\n",
       "      <td>7</td>\n",
       "      <td>30.2085</td>\n",
       "      <td>634.3785</td>\n",
       "      <td>2/8/2019</td>\n",
       "      <td>10:37</td>\n",
       "      <td>Ewallet</td>\n",
       "      <td>604.17</td>\n",
       "      <td>4.761905</td>\n",
       "      <td>30.2085</td>\n",
       "      <td>5.3</td>\n",
       "    </tr>\n",
       "  </tbody>\n",
       "</table>\n",
       "</div>"
      ],
      "text/plain": [
       "    Invoice ID Branch       City Customer type  Gender  Product_line  \\\n",
       "0  750-67-8428      A     Yangon        Member       1             1   \n",
       "1  226-31-3081      C  Naypyitaw        Normal       1             2   \n",
       "2  631-41-3108      A     Yangon        Normal       2             3   \n",
       "3  123-19-1176      A     Yangon        Member       2             1   \n",
       "4  373-73-7910      A     Yangon        Normal       2             4   \n",
       "\n",
       "   Unit_price  Quantity      Tax     Total       Date   Time      Payment  \\\n",
       "0       74.69         7  26.1415  548.9715   1/5/2019  13:08      Ewallet   \n",
       "1       15.28         5   3.8200   80.2200   3/8/2019  10:29         Cash   \n",
       "2       46.33         7  16.2155  340.5255   3/3/2019  13:23  Credit card   \n",
       "3       58.22         8  23.2880  489.0480  1/27/2019  20:33      Ewallet   \n",
       "4       86.31         7  30.2085  634.3785   2/8/2019  10:37      Ewallet   \n",
       "\n",
       "     cogs  gross margin percentage  gross income  Rating  \n",
       "0  522.83                 4.761905       26.1415     9.1  \n",
       "1   76.40                 4.761905        3.8200     9.6  \n",
       "2  324.31                 4.761905       16.2155     7.4  \n",
       "3  465.76                 4.761905       23.2880     8.4  \n",
       "4  604.17                 4.761905       30.2085     5.3  "
      ]
     },
     "execution_count": 30,
     "metadata": {},
     "output_type": "execute_result"
    }
   ],
   "source": [
    "df.head()"
   ]
  },
  {
   "cell_type": "code",
   "execution_count": 32,
   "id": "59a4118b",
   "metadata": {},
   "outputs": [
    {
     "data": {
      "text/plain": [
       "array(['Ewallet', 'Cash', 'Credit card'], dtype=object)"
      ]
     },
     "execution_count": 32,
     "metadata": {},
     "output_type": "execute_result"
    }
   ],
   "source": [
    "df.Payment.unique()"
   ]
  },
  {
   "cell_type": "code",
   "execution_count": 33,
   "id": "71ac7927",
   "metadata": {},
   "outputs": [],
   "source": [
    "df[\"Payment\"] =df.Payment.map({\"Ewallet\": 1, \"Cash\" :2, \"Credit card\":3})"
   ]
  },
  {
   "cell_type": "code",
   "execution_count": 35,
   "id": "2c75a163",
   "metadata": {},
   "outputs": [
    {
     "data": {
      "text/html": [
       "<div>\n",
       "<style scoped>\n",
       "    .dataframe tbody tr th:only-of-type {\n",
       "        vertical-align: middle;\n",
       "    }\n",
       "\n",
       "    .dataframe tbody tr th {\n",
       "        vertical-align: top;\n",
       "    }\n",
       "\n",
       "    .dataframe thead th {\n",
       "        text-align: right;\n",
       "    }\n",
       "</style>\n",
       "<table border=\"1\" class=\"dataframe\">\n",
       "  <thead>\n",
       "    <tr style=\"text-align: right;\">\n",
       "      <th></th>\n",
       "      <th>Invoice ID</th>\n",
       "      <th>Branch</th>\n",
       "      <th>City</th>\n",
       "      <th>Customer_type</th>\n",
       "      <th>Gender</th>\n",
       "      <th>Product_line</th>\n",
       "      <th>Unit_price</th>\n",
       "      <th>Quantity</th>\n",
       "      <th>Tax</th>\n",
       "      <th>Total</th>\n",
       "      <th>Date</th>\n",
       "      <th>Time</th>\n",
       "      <th>Payment</th>\n",
       "      <th>cogs</th>\n",
       "      <th>gross margin percentage</th>\n",
       "      <th>gross income</th>\n",
       "      <th>Rating</th>\n",
       "    </tr>\n",
       "  </thead>\n",
       "  <tbody>\n",
       "    <tr>\n",
       "      <th>0</th>\n",
       "      <td>750-67-8428</td>\n",
       "      <td>A</td>\n",
       "      <td>Yangon</td>\n",
       "      <td>Member</td>\n",
       "      <td>1</td>\n",
       "      <td>1</td>\n",
       "      <td>74.69</td>\n",
       "      <td>7</td>\n",
       "      <td>26.1415</td>\n",
       "      <td>548.9715</td>\n",
       "      <td>1/5/2019</td>\n",
       "      <td>13:08</td>\n",
       "      <td>1</td>\n",
       "      <td>522.83</td>\n",
       "      <td>4.761905</td>\n",
       "      <td>26.1415</td>\n",
       "      <td>9.1</td>\n",
       "    </tr>\n",
       "    <tr>\n",
       "      <th>1</th>\n",
       "      <td>226-31-3081</td>\n",
       "      <td>C</td>\n",
       "      <td>Naypyitaw</td>\n",
       "      <td>Normal</td>\n",
       "      <td>1</td>\n",
       "      <td>2</td>\n",
       "      <td>15.28</td>\n",
       "      <td>5</td>\n",
       "      <td>3.8200</td>\n",
       "      <td>80.2200</td>\n",
       "      <td>3/8/2019</td>\n",
       "      <td>10:29</td>\n",
       "      <td>2</td>\n",
       "      <td>76.40</td>\n",
       "      <td>4.761905</td>\n",
       "      <td>3.8200</td>\n",
       "      <td>9.6</td>\n",
       "    </tr>\n",
       "    <tr>\n",
       "      <th>2</th>\n",
       "      <td>631-41-3108</td>\n",
       "      <td>A</td>\n",
       "      <td>Yangon</td>\n",
       "      <td>Normal</td>\n",
       "      <td>2</td>\n",
       "      <td>3</td>\n",
       "      <td>46.33</td>\n",
       "      <td>7</td>\n",
       "      <td>16.2155</td>\n",
       "      <td>340.5255</td>\n",
       "      <td>3/3/2019</td>\n",
       "      <td>13:23</td>\n",
       "      <td>3</td>\n",
       "      <td>324.31</td>\n",
       "      <td>4.761905</td>\n",
       "      <td>16.2155</td>\n",
       "      <td>7.4</td>\n",
       "    </tr>\n",
       "    <tr>\n",
       "      <th>3</th>\n",
       "      <td>123-19-1176</td>\n",
       "      <td>A</td>\n",
       "      <td>Yangon</td>\n",
       "      <td>Member</td>\n",
       "      <td>2</td>\n",
       "      <td>1</td>\n",
       "      <td>58.22</td>\n",
       "      <td>8</td>\n",
       "      <td>23.2880</td>\n",
       "      <td>489.0480</td>\n",
       "      <td>1/27/2019</td>\n",
       "      <td>20:33</td>\n",
       "      <td>1</td>\n",
       "      <td>465.76</td>\n",
       "      <td>4.761905</td>\n",
       "      <td>23.2880</td>\n",
       "      <td>8.4</td>\n",
       "    </tr>\n",
       "    <tr>\n",
       "      <th>4</th>\n",
       "      <td>373-73-7910</td>\n",
       "      <td>A</td>\n",
       "      <td>Yangon</td>\n",
       "      <td>Normal</td>\n",
       "      <td>2</td>\n",
       "      <td>4</td>\n",
       "      <td>86.31</td>\n",
       "      <td>7</td>\n",
       "      <td>30.2085</td>\n",
       "      <td>634.3785</td>\n",
       "      <td>2/8/2019</td>\n",
       "      <td>10:37</td>\n",
       "      <td>1</td>\n",
       "      <td>604.17</td>\n",
       "      <td>4.761905</td>\n",
       "      <td>30.2085</td>\n",
       "      <td>5.3</td>\n",
       "    </tr>\n",
       "  </tbody>\n",
       "</table>\n",
       "</div>"
      ],
      "text/plain": [
       "    Invoice ID Branch       City Customer_type  Gender  Product_line  \\\n",
       "0  750-67-8428      A     Yangon        Member       1             1   \n",
       "1  226-31-3081      C  Naypyitaw        Normal       1             2   \n",
       "2  631-41-3108      A     Yangon        Normal       2             3   \n",
       "3  123-19-1176      A     Yangon        Member       2             1   \n",
       "4  373-73-7910      A     Yangon        Normal       2             4   \n",
       "\n",
       "   Unit_price  Quantity      Tax     Total       Date   Time  Payment    cogs  \\\n",
       "0       74.69         7  26.1415  548.9715   1/5/2019  13:08        1  522.83   \n",
       "1       15.28         5   3.8200   80.2200   3/8/2019  10:29        2   76.40   \n",
       "2       46.33         7  16.2155  340.5255   3/3/2019  13:23        3  324.31   \n",
       "3       58.22         8  23.2880  489.0480  1/27/2019  20:33        1  465.76   \n",
       "4       86.31         7  30.2085  634.3785   2/8/2019  10:37        1  604.17   \n",
       "\n",
       "   gross margin percentage  gross income  Rating  \n",
       "0                 4.761905       26.1415     9.1  \n",
       "1                 4.761905        3.8200     9.6  \n",
       "2                 4.761905       16.2155     7.4  \n",
       "3                 4.761905       23.2880     8.4  \n",
       "4                 4.761905       30.2085     5.3  "
      ]
     },
     "execution_count": 35,
     "metadata": {},
     "output_type": "execute_result"
    }
   ],
   "source": [
    "df.head()"
   ]
  },
  {
   "cell_type": "code",
   "execution_count": 36,
   "id": "cf4f754d",
   "metadata": {},
   "outputs": [
    {
     "data": {
      "text/plain": [
       "array(['Member', 'Normal'], dtype=object)"
      ]
     },
     "execution_count": 36,
     "metadata": {},
     "output_type": "execute_result"
    }
   ],
   "source": [
    "df.Customer_type.unique()"
   ]
  },
  {
   "cell_type": "code",
   "execution_count": 37,
   "id": "73ea3f74",
   "metadata": {},
   "outputs": [],
   "source": [
    "df[\"Customer_type\"] = df.Customer_type.map({\"Member\": 1, \"Normal\" :2})"
   ]
  },
  {
   "cell_type": "code",
   "execution_count": 38,
   "id": "ae398cbc",
   "metadata": {},
   "outputs": [
    {
     "data": {
      "text/html": [
       "<div>\n",
       "<style scoped>\n",
       "    .dataframe tbody tr th:only-of-type {\n",
       "        vertical-align: middle;\n",
       "    }\n",
       "\n",
       "    .dataframe tbody tr th {\n",
       "        vertical-align: top;\n",
       "    }\n",
       "\n",
       "    .dataframe thead th {\n",
       "        text-align: right;\n",
       "    }\n",
       "</style>\n",
       "<table border=\"1\" class=\"dataframe\">\n",
       "  <thead>\n",
       "    <tr style=\"text-align: right;\">\n",
       "      <th></th>\n",
       "      <th>Invoice ID</th>\n",
       "      <th>Branch</th>\n",
       "      <th>City</th>\n",
       "      <th>Customer_type</th>\n",
       "      <th>Gender</th>\n",
       "      <th>Product_line</th>\n",
       "      <th>Unit_price</th>\n",
       "      <th>Quantity</th>\n",
       "      <th>Tax</th>\n",
       "      <th>Total</th>\n",
       "      <th>Date</th>\n",
       "      <th>Time</th>\n",
       "      <th>Payment</th>\n",
       "      <th>cogs</th>\n",
       "      <th>gross margin percentage</th>\n",
       "      <th>gross income</th>\n",
       "      <th>Rating</th>\n",
       "    </tr>\n",
       "  </thead>\n",
       "  <tbody>\n",
       "    <tr>\n",
       "      <th>0</th>\n",
       "      <td>750-67-8428</td>\n",
       "      <td>A</td>\n",
       "      <td>Yangon</td>\n",
       "      <td>1</td>\n",
       "      <td>1</td>\n",
       "      <td>1</td>\n",
       "      <td>74.69</td>\n",
       "      <td>7</td>\n",
       "      <td>26.1415</td>\n",
       "      <td>548.9715</td>\n",
       "      <td>1/5/2019</td>\n",
       "      <td>13:08</td>\n",
       "      <td>1</td>\n",
       "      <td>522.83</td>\n",
       "      <td>4.761905</td>\n",
       "      <td>26.1415</td>\n",
       "      <td>9.1</td>\n",
       "    </tr>\n",
       "    <tr>\n",
       "      <th>1</th>\n",
       "      <td>226-31-3081</td>\n",
       "      <td>C</td>\n",
       "      <td>Naypyitaw</td>\n",
       "      <td>2</td>\n",
       "      <td>1</td>\n",
       "      <td>2</td>\n",
       "      <td>15.28</td>\n",
       "      <td>5</td>\n",
       "      <td>3.8200</td>\n",
       "      <td>80.2200</td>\n",
       "      <td>3/8/2019</td>\n",
       "      <td>10:29</td>\n",
       "      <td>2</td>\n",
       "      <td>76.40</td>\n",
       "      <td>4.761905</td>\n",
       "      <td>3.8200</td>\n",
       "      <td>9.6</td>\n",
       "    </tr>\n",
       "    <tr>\n",
       "      <th>2</th>\n",
       "      <td>631-41-3108</td>\n",
       "      <td>A</td>\n",
       "      <td>Yangon</td>\n",
       "      <td>2</td>\n",
       "      <td>2</td>\n",
       "      <td>3</td>\n",
       "      <td>46.33</td>\n",
       "      <td>7</td>\n",
       "      <td>16.2155</td>\n",
       "      <td>340.5255</td>\n",
       "      <td>3/3/2019</td>\n",
       "      <td>13:23</td>\n",
       "      <td>3</td>\n",
       "      <td>324.31</td>\n",
       "      <td>4.761905</td>\n",
       "      <td>16.2155</td>\n",
       "      <td>7.4</td>\n",
       "    </tr>\n",
       "    <tr>\n",
       "      <th>3</th>\n",
       "      <td>123-19-1176</td>\n",
       "      <td>A</td>\n",
       "      <td>Yangon</td>\n",
       "      <td>1</td>\n",
       "      <td>2</td>\n",
       "      <td>1</td>\n",
       "      <td>58.22</td>\n",
       "      <td>8</td>\n",
       "      <td>23.2880</td>\n",
       "      <td>489.0480</td>\n",
       "      <td>1/27/2019</td>\n",
       "      <td>20:33</td>\n",
       "      <td>1</td>\n",
       "      <td>465.76</td>\n",
       "      <td>4.761905</td>\n",
       "      <td>23.2880</td>\n",
       "      <td>8.4</td>\n",
       "    </tr>\n",
       "    <tr>\n",
       "      <th>4</th>\n",
       "      <td>373-73-7910</td>\n",
       "      <td>A</td>\n",
       "      <td>Yangon</td>\n",
       "      <td>2</td>\n",
       "      <td>2</td>\n",
       "      <td>4</td>\n",
       "      <td>86.31</td>\n",
       "      <td>7</td>\n",
       "      <td>30.2085</td>\n",
       "      <td>634.3785</td>\n",
       "      <td>2/8/2019</td>\n",
       "      <td>10:37</td>\n",
       "      <td>1</td>\n",
       "      <td>604.17</td>\n",
       "      <td>4.761905</td>\n",
       "      <td>30.2085</td>\n",
       "      <td>5.3</td>\n",
       "    </tr>\n",
       "  </tbody>\n",
       "</table>\n",
       "</div>"
      ],
      "text/plain": [
       "    Invoice ID Branch       City  Customer_type  Gender  Product_line  \\\n",
       "0  750-67-8428      A     Yangon              1       1             1   \n",
       "1  226-31-3081      C  Naypyitaw              2       1             2   \n",
       "2  631-41-3108      A     Yangon              2       2             3   \n",
       "3  123-19-1176      A     Yangon              1       2             1   \n",
       "4  373-73-7910      A     Yangon              2       2             4   \n",
       "\n",
       "   Unit_price  Quantity      Tax     Total       Date   Time  Payment    cogs  \\\n",
       "0       74.69         7  26.1415  548.9715   1/5/2019  13:08        1  522.83   \n",
       "1       15.28         5   3.8200   80.2200   3/8/2019  10:29        2   76.40   \n",
       "2       46.33         7  16.2155  340.5255   3/3/2019  13:23        3  324.31   \n",
       "3       58.22         8  23.2880  489.0480  1/27/2019  20:33        1  465.76   \n",
       "4       86.31         7  30.2085  634.3785   2/8/2019  10:37        1  604.17   \n",
       "\n",
       "   gross margin percentage  gross income  Rating  \n",
       "0                 4.761905       26.1415     9.1  \n",
       "1                 4.761905        3.8200     9.6  \n",
       "2                 4.761905       16.2155     7.4  \n",
       "3                 4.761905       23.2880     8.4  \n",
       "4                 4.761905       30.2085     5.3  "
      ]
     },
     "execution_count": 38,
     "metadata": {},
     "output_type": "execute_result"
    }
   ],
   "source": [
    "df.head()"
   ]
  },
  {
   "cell_type": "code",
   "execution_count": 39,
   "id": "83fd0ba7",
   "metadata": {},
   "outputs": [
    {
     "data": {
      "text/plain": [
       "array(['Yangon', 'Naypyitaw', 'Mandalay'], dtype=object)"
      ]
     },
     "execution_count": 39,
     "metadata": {},
     "output_type": "execute_result"
    }
   ],
   "source": [
    "df.City.unique()"
   ]
  },
  {
   "cell_type": "code",
   "execution_count": 40,
   "id": "d31cf647",
   "metadata": {},
   "outputs": [],
   "source": [
    "df[\"City\"] = df.City.map({\"Yangon\": 1, \"Naypyitaw\" :2, \"Mandalay\" :3})"
   ]
  },
  {
   "cell_type": "code",
   "execution_count": 41,
   "id": "b255b5e8",
   "metadata": {},
   "outputs": [
    {
     "data": {
      "text/html": [
       "<div>\n",
       "<style scoped>\n",
       "    .dataframe tbody tr th:only-of-type {\n",
       "        vertical-align: middle;\n",
       "    }\n",
       "\n",
       "    .dataframe tbody tr th {\n",
       "        vertical-align: top;\n",
       "    }\n",
       "\n",
       "    .dataframe thead th {\n",
       "        text-align: right;\n",
       "    }\n",
       "</style>\n",
       "<table border=\"1\" class=\"dataframe\">\n",
       "  <thead>\n",
       "    <tr style=\"text-align: right;\">\n",
       "      <th></th>\n",
       "      <th>Invoice ID</th>\n",
       "      <th>Branch</th>\n",
       "      <th>City</th>\n",
       "      <th>Customer_type</th>\n",
       "      <th>Gender</th>\n",
       "      <th>Product_line</th>\n",
       "      <th>Unit_price</th>\n",
       "      <th>Quantity</th>\n",
       "      <th>Tax</th>\n",
       "      <th>Total</th>\n",
       "      <th>Date</th>\n",
       "      <th>Time</th>\n",
       "      <th>Payment</th>\n",
       "      <th>cogs</th>\n",
       "      <th>gross margin percentage</th>\n",
       "      <th>gross income</th>\n",
       "      <th>Rating</th>\n",
       "    </tr>\n",
       "  </thead>\n",
       "  <tbody>\n",
       "    <tr>\n",
       "      <th>0</th>\n",
       "      <td>750-67-8428</td>\n",
       "      <td>A</td>\n",
       "      <td>1</td>\n",
       "      <td>1</td>\n",
       "      <td>1</td>\n",
       "      <td>1</td>\n",
       "      <td>74.69</td>\n",
       "      <td>7</td>\n",
       "      <td>26.1415</td>\n",
       "      <td>548.9715</td>\n",
       "      <td>1/5/2019</td>\n",
       "      <td>13:08</td>\n",
       "      <td>1</td>\n",
       "      <td>522.83</td>\n",
       "      <td>4.761905</td>\n",
       "      <td>26.1415</td>\n",
       "      <td>9.1</td>\n",
       "    </tr>\n",
       "    <tr>\n",
       "      <th>1</th>\n",
       "      <td>226-31-3081</td>\n",
       "      <td>C</td>\n",
       "      <td>2</td>\n",
       "      <td>2</td>\n",
       "      <td>1</td>\n",
       "      <td>2</td>\n",
       "      <td>15.28</td>\n",
       "      <td>5</td>\n",
       "      <td>3.8200</td>\n",
       "      <td>80.2200</td>\n",
       "      <td>3/8/2019</td>\n",
       "      <td>10:29</td>\n",
       "      <td>2</td>\n",
       "      <td>76.40</td>\n",
       "      <td>4.761905</td>\n",
       "      <td>3.8200</td>\n",
       "      <td>9.6</td>\n",
       "    </tr>\n",
       "    <tr>\n",
       "      <th>2</th>\n",
       "      <td>631-41-3108</td>\n",
       "      <td>A</td>\n",
       "      <td>1</td>\n",
       "      <td>2</td>\n",
       "      <td>2</td>\n",
       "      <td>3</td>\n",
       "      <td>46.33</td>\n",
       "      <td>7</td>\n",
       "      <td>16.2155</td>\n",
       "      <td>340.5255</td>\n",
       "      <td>3/3/2019</td>\n",
       "      <td>13:23</td>\n",
       "      <td>3</td>\n",
       "      <td>324.31</td>\n",
       "      <td>4.761905</td>\n",
       "      <td>16.2155</td>\n",
       "      <td>7.4</td>\n",
       "    </tr>\n",
       "    <tr>\n",
       "      <th>3</th>\n",
       "      <td>123-19-1176</td>\n",
       "      <td>A</td>\n",
       "      <td>1</td>\n",
       "      <td>1</td>\n",
       "      <td>2</td>\n",
       "      <td>1</td>\n",
       "      <td>58.22</td>\n",
       "      <td>8</td>\n",
       "      <td>23.2880</td>\n",
       "      <td>489.0480</td>\n",
       "      <td>1/27/2019</td>\n",
       "      <td>20:33</td>\n",
       "      <td>1</td>\n",
       "      <td>465.76</td>\n",
       "      <td>4.761905</td>\n",
       "      <td>23.2880</td>\n",
       "      <td>8.4</td>\n",
       "    </tr>\n",
       "    <tr>\n",
       "      <th>4</th>\n",
       "      <td>373-73-7910</td>\n",
       "      <td>A</td>\n",
       "      <td>1</td>\n",
       "      <td>2</td>\n",
       "      <td>2</td>\n",
       "      <td>4</td>\n",
       "      <td>86.31</td>\n",
       "      <td>7</td>\n",
       "      <td>30.2085</td>\n",
       "      <td>634.3785</td>\n",
       "      <td>2/8/2019</td>\n",
       "      <td>10:37</td>\n",
       "      <td>1</td>\n",
       "      <td>604.17</td>\n",
       "      <td>4.761905</td>\n",
       "      <td>30.2085</td>\n",
       "      <td>5.3</td>\n",
       "    </tr>\n",
       "  </tbody>\n",
       "</table>\n",
       "</div>"
      ],
      "text/plain": [
       "    Invoice ID Branch  City  Customer_type  Gender  Product_line  Unit_price  \\\n",
       "0  750-67-8428      A     1              1       1             1       74.69   \n",
       "1  226-31-3081      C     2              2       1             2       15.28   \n",
       "2  631-41-3108      A     1              2       2             3       46.33   \n",
       "3  123-19-1176      A     1              1       2             1       58.22   \n",
       "4  373-73-7910      A     1              2       2             4       86.31   \n",
       "\n",
       "   Quantity      Tax     Total       Date   Time  Payment    cogs  \\\n",
       "0         7  26.1415  548.9715   1/5/2019  13:08        1  522.83   \n",
       "1         5   3.8200   80.2200   3/8/2019  10:29        2   76.40   \n",
       "2         7  16.2155  340.5255   3/3/2019  13:23        3  324.31   \n",
       "3         8  23.2880  489.0480  1/27/2019  20:33        1  465.76   \n",
       "4         7  30.2085  634.3785   2/8/2019  10:37        1  604.17   \n",
       "\n",
       "   gross margin percentage  gross income  Rating  \n",
       "0                 4.761905       26.1415     9.1  \n",
       "1                 4.761905        3.8200     9.6  \n",
       "2                 4.761905       16.2155     7.4  \n",
       "3                 4.761905       23.2880     8.4  \n",
       "4                 4.761905       30.2085     5.3  "
      ]
     },
     "execution_count": 41,
     "metadata": {},
     "output_type": "execute_result"
    }
   ],
   "source": [
    "df.head()"
   ]
  },
  {
   "cell_type": "code",
   "execution_count": 42,
   "id": "2f676648",
   "metadata": {},
   "outputs": [
    {
     "data": {
      "text/plain": [
       "array(['A', 'C', 'B'], dtype=object)"
      ]
     },
     "execution_count": 42,
     "metadata": {},
     "output_type": "execute_result"
    }
   ],
   "source": [
    "df.Branch.unique()"
   ]
  },
  {
   "cell_type": "code",
   "execution_count": 43,
   "id": "e3b813b5",
   "metadata": {},
   "outputs": [],
   "source": [
    "df[\"Branch\"] = df.Branch.map({\"A\": 1, \"C\" :2, \"B\" :3})"
   ]
  },
  {
   "cell_type": "code",
   "execution_count": 192,
   "id": "bc8a1580",
   "metadata": {},
   "outputs": [
    {
     "data": {
      "text/html": [
       "<div>\n",
       "<style scoped>\n",
       "    .dataframe tbody tr th:only-of-type {\n",
       "        vertical-align: middle;\n",
       "    }\n",
       "\n",
       "    .dataframe tbody tr th {\n",
       "        vertical-align: top;\n",
       "    }\n",
       "\n",
       "    .dataframe thead th {\n",
       "        text-align: right;\n",
       "    }\n",
       "</style>\n",
       "<table border=\"1\" class=\"dataframe\">\n",
       "  <thead>\n",
       "    <tr style=\"text-align: right;\">\n",
       "      <th></th>\n",
       "      <th>Invoice ID</th>\n",
       "      <th>Branch</th>\n",
       "      <th>City</th>\n",
       "      <th>Customer_type</th>\n",
       "      <th>Gender</th>\n",
       "      <th>Product_line</th>\n",
       "      <th>Unit_price</th>\n",
       "      <th>Quantity</th>\n",
       "      <th>Tax</th>\n",
       "      <th>Total</th>\n",
       "      <th>Date</th>\n",
       "      <th>Time</th>\n",
       "      <th>Payment</th>\n",
       "      <th>cogs</th>\n",
       "      <th>gross margin percentage</th>\n",
       "      <th>gross income</th>\n",
       "      <th>Rating</th>\n",
       "    </tr>\n",
       "  </thead>\n",
       "  <tbody>\n",
       "    <tr>\n",
       "      <th>0</th>\n",
       "      <td>750-67-8428</td>\n",
       "      <td>1</td>\n",
       "      <td>1</td>\n",
       "      <td>1</td>\n",
       "      <td>1</td>\n",
       "      <td>1</td>\n",
       "      <td>74.69</td>\n",
       "      <td>7</td>\n",
       "      <td>26.1415</td>\n",
       "      <td>548.9715</td>\n",
       "      <td>1/5/2019</td>\n",
       "      <td>13:08</td>\n",
       "      <td>1</td>\n",
       "      <td>522.83</td>\n",
       "      <td>4.761905</td>\n",
       "      <td>26.1415</td>\n",
       "      <td>9.1</td>\n",
       "    </tr>\n",
       "    <tr>\n",
       "      <th>1</th>\n",
       "      <td>226-31-3081</td>\n",
       "      <td>2</td>\n",
       "      <td>2</td>\n",
       "      <td>2</td>\n",
       "      <td>1</td>\n",
       "      <td>2</td>\n",
       "      <td>15.28</td>\n",
       "      <td>5</td>\n",
       "      <td>3.8200</td>\n",
       "      <td>80.2200</td>\n",
       "      <td>3/8/2019</td>\n",
       "      <td>10:29</td>\n",
       "      <td>2</td>\n",
       "      <td>76.40</td>\n",
       "      <td>4.761905</td>\n",
       "      <td>3.8200</td>\n",
       "      <td>9.6</td>\n",
       "    </tr>\n",
       "    <tr>\n",
       "      <th>2</th>\n",
       "      <td>631-41-3108</td>\n",
       "      <td>1</td>\n",
       "      <td>1</td>\n",
       "      <td>2</td>\n",
       "      <td>2</td>\n",
       "      <td>3</td>\n",
       "      <td>46.33</td>\n",
       "      <td>7</td>\n",
       "      <td>16.2155</td>\n",
       "      <td>340.5255</td>\n",
       "      <td>3/3/2019</td>\n",
       "      <td>13:23</td>\n",
       "      <td>3</td>\n",
       "      <td>324.31</td>\n",
       "      <td>4.761905</td>\n",
       "      <td>16.2155</td>\n",
       "      <td>7.4</td>\n",
       "    </tr>\n",
       "    <tr>\n",
       "      <th>3</th>\n",
       "      <td>123-19-1176</td>\n",
       "      <td>1</td>\n",
       "      <td>1</td>\n",
       "      <td>1</td>\n",
       "      <td>2</td>\n",
       "      <td>1</td>\n",
       "      <td>58.22</td>\n",
       "      <td>8</td>\n",
       "      <td>23.2880</td>\n",
       "      <td>489.0480</td>\n",
       "      <td>1/27/2019</td>\n",
       "      <td>20:33</td>\n",
       "      <td>1</td>\n",
       "      <td>465.76</td>\n",
       "      <td>4.761905</td>\n",
       "      <td>23.2880</td>\n",
       "      <td>8.4</td>\n",
       "    </tr>\n",
       "    <tr>\n",
       "      <th>4</th>\n",
       "      <td>373-73-7910</td>\n",
       "      <td>1</td>\n",
       "      <td>1</td>\n",
       "      <td>2</td>\n",
       "      <td>2</td>\n",
       "      <td>4</td>\n",
       "      <td>86.31</td>\n",
       "      <td>7</td>\n",
       "      <td>30.2085</td>\n",
       "      <td>634.3785</td>\n",
       "      <td>2/8/2019</td>\n",
       "      <td>10:37</td>\n",
       "      <td>1</td>\n",
       "      <td>604.17</td>\n",
       "      <td>4.761905</td>\n",
       "      <td>30.2085</td>\n",
       "      <td>5.3</td>\n",
       "    </tr>\n",
       "  </tbody>\n",
       "</table>\n",
       "</div>"
      ],
      "text/plain": [
       "    Invoice ID  Branch  City  Customer_type  Gender  Product_line  Unit_price  \\\n",
       "0  750-67-8428       1     1              1       1             1       74.69   \n",
       "1  226-31-3081       2     2              2       1             2       15.28   \n",
       "2  631-41-3108       1     1              2       2             3       46.33   \n",
       "3  123-19-1176       1     1              1       2             1       58.22   \n",
       "4  373-73-7910       1     1              2       2             4       86.31   \n",
       "\n",
       "   Quantity      Tax     Total       Date   Time  Payment    cogs  \\\n",
       "0         7  26.1415  548.9715   1/5/2019  13:08        1  522.83   \n",
       "1         5   3.8200   80.2200   3/8/2019  10:29        2   76.40   \n",
       "2         7  16.2155  340.5255   3/3/2019  13:23        3  324.31   \n",
       "3         8  23.2880  489.0480  1/27/2019  20:33        1  465.76   \n",
       "4         7  30.2085  634.3785   2/8/2019  10:37        1  604.17   \n",
       "\n",
       "   gross margin percentage  gross income  Rating  \n",
       "0                 4.761905       26.1415     9.1  \n",
       "1                 4.761905        3.8200     9.6  \n",
       "2                 4.761905       16.2155     7.4  \n",
       "3                 4.761905       23.2880     8.4  \n",
       "4                 4.761905       30.2085     5.3  "
      ]
     },
     "execution_count": 192,
     "metadata": {},
     "output_type": "execute_result"
    }
   ],
   "source": [
    "df.head()"
   ]
  },
  {
   "cell_type": "code",
   "execution_count": 45,
   "id": "793098fb",
   "metadata": {},
   "outputs": [],
   "source": [
    "#makine öğrenmesi"
   ]
  },
  {
   "cell_type": "code",
   "execution_count": 46,
   "id": "1505d078",
   "metadata": {},
   "outputs": [],
   "source": [
    "# bağımlı ve bağımsız değişken"
   ]
  },
  {
   "cell_type": "code",
   "execution_count": 47,
   "id": "552a3a04",
   "metadata": {},
   "outputs": [],
   "source": [
    "#iki bağımsız değişken Gender, Product_line"
   ]
  },
  {
   "cell_type": "code",
   "execution_count": 48,
   "id": "e9f4a7c9",
   "metadata": {},
   "outputs": [],
   "source": [
    "x = df [['Gender','Branch']]"
   ]
  },
  {
   "cell_type": "code",
   "execution_count": 49,
   "id": "4d13ca47",
   "metadata": {},
   "outputs": [],
   "source": [
    "#bağımlı değişken total"
   ]
  },
  {
   "cell_type": "code",
   "execution_count": 51,
   "id": "96a2ea91",
   "metadata": {},
   "outputs": [],
   "source": [
    "y = df ['Total']"
   ]
  },
  {
   "cell_type": "code",
   "execution_count": 52,
   "id": "9ba284b2",
   "metadata": {},
   "outputs": [],
   "source": [
    "#saçılım grafiği"
   ]
  },
  {
   "cell_type": "code",
   "execution_count": 53,
   "id": "30d312ea",
   "metadata": {},
   "outputs": [
    {
     "data": {
      "image/png": "[encoded data removed]",
      "text/plain": [
       "<Figure size 432x288 with 1 Axes>"
      ]
     },
     "metadata": {
      "needs_background": "light"
     },
     "output_type": "display_data"
    }
   ],
   "source": [
    "plt.scatter(x['Gender'], y)\n",
    "\n",
    "plt.xlabel('Gender', fontsize=15)\n",
    "plt.xlabel('Total', fontsize=15)\n",
    "\n",
    "plt.show()"
   ]
  },
  {
   "cell_type": "code",
   "execution_count": 54,
   "id": "ca797b3d",
   "metadata": {},
   "outputs": [
    {
     "data": {
      "image/png": "[encoded data removed]",
      "text/plain": [
       "<Figure size 432x288 with 1 Axes>"
      ]
     },
     "metadata": {
      "needs_background": "light"
     },
     "output_type": "display_data"
    }
   ],
   "source": [
    "plt.scatter(x['Branch'], y)\n",
    "\n",
    "plt.xlabel('Branch', fontsize=15)\n",
    "plt.xlabel('Total', fontsize=15)\n",
    "\n",
    "plt.show()"
   ]
  },
  {
   "cell_type": "code",
   "execution_count": 55,
   "id": "c77ec7de",
   "metadata": {},
   "outputs": [
    {
     "data": {
      "text/plain": [
       "LinearRegression()"
      ]
     },
     "execution_count": 55,
     "metadata": {},
     "output_type": "execute_result"
    }
   ],
   "source": [
    "reg = LinearRegression()\n",
    "reg.fit(x,y)"
   ]
  },
  {
   "cell_type": "code",
   "execution_count": 56,
   "id": "aa3a58d4",
   "metadata": {},
   "outputs": [],
   "source": [
    "#regresyonun kesim noktası"
   ]
  },
  {
   "cell_type": "code",
   "execution_count": 57,
   "id": "0703edc8",
   "metadata": {},
   "outputs": [
    {
     "data": {
      "text/plain": [
       "352.00029344256734"
      ]
     },
     "execution_count": 57,
     "metadata": {},
     "output_type": "execute_result"
    }
   ],
   "source": [
    "reg.intercept_"
   ]
  },
  {
   "cell_type": "code",
   "execution_count": 58,
   "id": "6c948969",
   "metadata": {},
   "outputs": [],
   "source": [
    "#regresynun kat sayıları"
   ]
  },
  {
   "cell_type": "code",
   "execution_count": 59,
   "id": "fa797b76",
   "metadata": {},
   "outputs": [
    {
     "data": {
      "text/plain": [
       "array([-24.23310318,   3.66058094])"
      ]
     },
     "execution_count": 59,
     "metadata": {},
     "output_type": "execute_result"
    }
   ],
   "source": [
    "reg.coef_"
   ]
  },
  {
   "cell_type": "code",
   "execution_count": null,
   "id": "f0c09ebc",
   "metadata": {},
   "outputs": [],
   "source": [
    "#sklearn içinde r karesini hesaplamak"
   ]
  },
  {
   "cell_type": "code",
   "execution_count": 60,
   "id": "01fcd369",
   "metadata": {},
   "outputs": [
    {
     "data": {
      "text/plain": [
       "0.002594450424785233"
      ]
     },
     "execution_count": 60,
     "metadata": {},
     "output_type": "execute_result"
    }
   ],
   "source": [
    "reg.score(x,y) #r kare"
   ]
  },
  {
   "cell_type": "code",
   "execution_count": 61,
   "id": "cf525bb3",
   "metadata": {},
   "outputs": [
    {
     "data": {
      "text/plain": [
       "(1000, 2)"
      ]
     },
     "execution_count": 61,
     "metadata": {},
     "output_type": "execute_result"
    }
   ],
   "source": [
    "x.shape "
   ]
  },
  {
   "cell_type": "code",
   "execution_count": 62,
   "id": "09801a9b",
   "metadata": {},
   "outputs": [
    {
     "data": {
      "text/plain": [
       "0.0005936368850154583"
      ]
     },
     "execution_count": 62,
     "metadata": {},
     "output_type": "execute_result"
    }
   ],
   "source": [
    "#düzeltilmiş r kareyi bulmak için, r kareyi, gözlem sayısını ve özellik sayısını bilmeliyiz\n",
    "r2= reg.score(x,y)\n",
    "\n",
    "#gözlem sayısı  (n), eksen 0 boyunca olan şekildir\n",
    "n=x.shape[0]\n",
    "\n",
    "#özellik sayısı (öngörücüler , p) eksen 1 boyunca şeklidir\n",
    "p= x.shape[1]\n",
    "\n",
    "#düzeltilmiş r kareyi aşağıdaki formulle buluruz\n",
    "düzeltilmis_r2= 1-(1-r2)*(n-1)/(n-p-1)\n",
    "düzeltilmis_r2"
   ]
  },
  {
   "cell_type": "code",
   "execution_count": 63,
   "id": "a848627b",
   "metadata": {},
   "outputs": [
    {
     "data": {
      "text/plain": [
       "array([331.4277712])"
      ]
     },
     "execution_count": 63,
     "metadata": {},
     "output_type": "execute_result"
    }
   ],
   "source": [
    "reg.predict([[1,1]]) #branch a ve cinsiyet kadın olan birinin ortalama totali"
   ]
  },
  {
   "cell_type": "code",
   "execution_count": 64,
   "id": "21292e05",
   "metadata": {},
   "outputs": [
    {
     "data": {
      "text/plain": [
       "array([335.08835213])"
      ]
     },
     "execution_count": 64,
     "metadata": {},
     "output_type": "execute_result"
    }
   ],
   "source": [
    "reg.predict([[1,2]])    #branch a ve cinsiyet erkek olan birinin ortalama totali"
   ]
  },
  {
   "cell_type": "code",
   "execution_count": 65,
   "id": "2d7fd0cb",
   "metadata": {},
   "outputs": [
    {
     "data": {
      "text/plain": [
       "array([307.19466802])"
      ]
     },
     "execution_count": 65,
     "metadata": {},
     "output_type": "execute_result"
    }
   ],
   "source": [
    "reg.predict([[2,1]])       #branch c ve cinsiyet kadın olan birinin ortalama totali"
   ]
  },
  {
   "cell_type": "code",
   "execution_count": 66,
   "id": "0f8cf881",
   "metadata": {},
   "outputs": [
    {
     "data": {
      "text/plain": [
       "array([310.85524895])"
      ]
     },
     "execution_count": 66,
     "metadata": {},
     "output_type": "execute_result"
    }
   ],
   "source": [
    "reg.predict([[2,2]])       #branch c ve cinsiyet erkek olan birinin ortalama totali"
   ]
  },
  {
   "cell_type": "code",
   "execution_count": 67,
   "id": "8dc87f88",
   "metadata": {},
   "outputs": [
    {
     "data": {
      "text/plain": [
       "array([282.96156484])"
      ]
     },
     "execution_count": 67,
     "metadata": {},
     "output_type": "execute_result"
    }
   ],
   "source": [
    "reg.predict([[3,1]])       #branch b ve cinsiyet kadın olan birinin ortalama totali"
   ]
  },
  {
   "cell_type": "code",
   "execution_count": 68,
   "id": "43f55cab",
   "metadata": {},
   "outputs": [
    {
     "data": {
      "text/plain": [
       "array([286.62214578])"
      ]
     },
     "execution_count": 68,
     "metadata": {},
     "output_type": "execute_result"
    }
   ],
   "source": [
    "reg.predict([[3,2]])       #branch b ve cinsiyet erkek olan birinin ortalama totali"
   ]
  },
  {
   "cell_type": "code",
   "execution_count": 69,
   "id": "38fc821a",
   "metadata": {},
   "outputs": [
    {
     "data": {
      "text/html": [
       "<div>\n",
       "<style scoped>\n",
       "    .dataframe tbody tr th:only-of-type {\n",
       "        vertical-align: middle;\n",
       "    }\n",
       "\n",
       "    .dataframe tbody tr th {\n",
       "        vertical-align: top;\n",
       "    }\n",
       "\n",
       "    .dataframe thead th {\n",
       "        text-align: right;\n",
       "    }\n",
       "</style>\n",
       "<table border=\"1\" class=\"dataframe\">\n",
       "  <thead>\n",
       "    <tr style=\"text-align: right;\">\n",
       "      <th></th>\n",
       "      <th>Branch</th>\n",
       "      <th>Gender</th>\n",
       "    </tr>\n",
       "  </thead>\n",
       "  <tbody>\n",
       "    <tr>\n",
       "      <th>0</th>\n",
       "      <td>4</td>\n",
       "      <td>1</td>\n",
       "    </tr>\n",
       "    <tr>\n",
       "      <th>1</th>\n",
       "      <td>5</td>\n",
       "      <td>2</td>\n",
       "    </tr>\n",
       "    <tr>\n",
       "      <th>2</th>\n",
       "      <td>6</td>\n",
       "      <td>3</td>\n",
       "    </tr>\n",
       "  </tbody>\n",
       "</table>\n",
       "</div>"
      ],
      "text/plain": [
       "   Branch  Gender\n",
       "0       4       1\n",
       "1       5       2\n",
       "2       6       3"
      ]
     },
     "execution_count": 69,
     "metadata": {},
     "output_type": "execute_result"
    }
   ],
   "source": [
    "yeni_df =pd.DataFrame({'Branch': [4,5,6], 'Gender': [1,2,3] }) \n",
    "yeni_df"
   ]
  },
  {
   "cell_type": "code",
   "execution_count": 70,
   "id": "9f866d21",
   "metadata": {},
   "outputs": [
    {
     "data": {
      "text/plain": [
       "array([258.7, 238.2, 217.6])"
      ]
     },
     "execution_count": 70,
     "metadata": {},
     "output_type": "execute_result"
    }
   ],
   "source": [
    "reg.predict(yeni_df).round(1) "
   ]
  },
  {
   "cell_type": "code",
   "execution_count": 71,
   "id": "baeb5d49",
   "metadata": {},
   "outputs": [
    {
     "data": {
      "text/html": [
       "<div>\n",
       "<style scoped>\n",
       "    .dataframe tbody tr th:only-of-type {\n",
       "        vertical-align: middle;\n",
       "    }\n",
       "\n",
       "    .dataframe tbody tr th {\n",
       "        vertical-align: top;\n",
       "    }\n",
       "\n",
       "    .dataframe thead th {\n",
       "        text-align: right;\n",
       "    }\n",
       "</style>\n",
       "<table border=\"1\" class=\"dataframe\">\n",
       "  <thead>\n",
       "    <tr style=\"text-align: right;\">\n",
       "      <th></th>\n",
       "      <th>Branch</th>\n",
       "      <th>Gender</th>\n",
       "      <th>Tahmini Total</th>\n",
       "    </tr>\n",
       "  </thead>\n",
       "  <tbody>\n",
       "    <tr>\n",
       "      <th>0</th>\n",
       "      <td>4</td>\n",
       "      <td>1</td>\n",
       "      <td>258.728462</td>\n",
       "    </tr>\n",
       "    <tr>\n",
       "      <th>1</th>\n",
       "      <td>5</td>\n",
       "      <td>2</td>\n",
       "      <td>238.155939</td>\n",
       "    </tr>\n",
       "    <tr>\n",
       "      <th>2</th>\n",
       "      <td>6</td>\n",
       "      <td>3</td>\n",
       "      <td>217.583417</td>\n",
       "    </tr>\n",
       "  </tbody>\n",
       "</table>\n",
       "</div>"
      ],
      "text/plain": [
       "   Branch  Gender  Tahmini Total\n",
       "0       4       1     258.728462\n",
       "1       5       2     238.155939\n",
       "2       6       3     217.583417"
      ]
     },
     "execution_count": 71,
     "metadata": {},
     "output_type": "execute_result"
    }
   ],
   "source": [
    "yeni_df['Tahmini Total'] =reg.predict(yeni_df) \n",
    "yeni_df "
   ]
  },
  {
   "cell_type": "code",
   "execution_count": 72,
   "id": "da8b9959",
   "metadata": {},
   "outputs": [
    {
     "data": {
      "text/plain": [
       "(array([2.44649215, 0.16384422]), array([0.11810485, 0.68572835]))"
      ]
     },
     "execution_count": 72,
     "metadata": {},
     "output_type": "execute_result"
    }
   ],
   "source": [
    "f_regression(x,y)"
   ]
  },
  {
   "cell_type": "code",
   "execution_count": 73,
   "id": "875339e9",
   "metadata": {},
   "outputs": [
    {
     "data": {
      "text/plain": [
       "array([0.11810485, 0.68572835])"
      ]
     },
     "execution_count": 73,
     "metadata": {},
     "output_type": "execute_result"
    }
   ],
   "source": [
    "p_values= f_regression(x,y) [1]\n",
    "p_values"
   ]
  },
  {
   "cell_type": "code",
   "execution_count": 74,
   "id": "648365ec",
   "metadata": {},
   "outputs": [
    {
     "data": {
      "text/plain": [
       "array([0.118, 0.686])"
      ]
     },
     "execution_count": 74,
     "metadata": {},
     "output_type": "execute_result"
    }
   ],
   "source": [
    "p_values.round(3)"
   ]
  },
  {
   "cell_type": "code",
   "execution_count": 75,
   "id": "1bae13ed",
   "metadata": {},
   "outputs": [
    {
     "data": {
      "text/html": [
       "<div>\n",
       "<style scoped>\n",
       "    .dataframe tbody tr th:only-of-type {\n",
       "        vertical-align: middle;\n",
       "    }\n",
       "\n",
       "    .dataframe tbody tr th {\n",
       "        vertical-align: top;\n",
       "    }\n",
       "\n",
       "    .dataframe thead th {\n",
       "        text-align: right;\n",
       "    }\n",
       "</style>\n",
       "<table border=\"1\" class=\"dataframe\">\n",
       "  <thead>\n",
       "    <tr style=\"text-align: right;\">\n",
       "      <th></th>\n",
       "      <th>özellik</th>\n",
       "      <th>Katsayılar</th>\n",
       "      <th>p-değerleri</th>\n",
       "    </tr>\n",
       "  </thead>\n",
       "  <tbody>\n",
       "    <tr>\n",
       "      <th>0</th>\n",
       "      <td>Gender</td>\n",
       "      <td>-24.233103</td>\n",
       "      <td>0.118</td>\n",
       "    </tr>\n",
       "    <tr>\n",
       "      <th>1</th>\n",
       "      <td>Branch</td>\n",
       "      <td>3.660581</td>\n",
       "      <td>0.686</td>\n",
       "    </tr>\n",
       "  </tbody>\n",
       "</table>\n",
       "</div>"
      ],
      "text/plain": [
       "  özellik  Katsayılar  p-değerleri\n",
       "0  Gender  -24.233103        0.118\n",
       "1  Branch    3.660581        0.686"
      ]
     },
     "execution_count": 75,
     "metadata": {},
     "output_type": "execute_result"
    }
   ],
   "source": [
    "reg_summary= pd.DataFrame(data= x.columns.values, columns= ['özellik'])\n",
    "reg_summary ['Katsayılar'] = reg.coef_\n",
    "reg_summary ['p-değerleri'] = p_values.round(3)\n",
    "reg_summary\n",
    "\n"
   ]
  },
  {
   "cell_type": "code",
   "execution_count": 76,
   "id": "5efc55c4",
   "metadata": {},
   "outputs": [],
   "source": [
    "#görünüşe göre gender ve branch istatiksel olarak anlamlıdır ve datadan cıkarılmamalıdır."
   ]
  },
  {
   "cell_type": "code",
   "execution_count": 78,
   "id": "f955e013",
   "metadata": {},
   "outputs": [
    {
     "data": {
      "text/html": [
       "<div>\n",
       "<style scoped>\n",
       "    .dataframe tbody tr th:only-of-type {\n",
       "        vertical-align: middle;\n",
       "    }\n",
       "\n",
       "    .dataframe tbody tr th {\n",
       "        vertical-align: top;\n",
       "    }\n",
       "\n",
       "    .dataframe thead th {\n",
       "        text-align: right;\n",
       "    }\n",
       "</style>\n",
       "<table border=\"1\" class=\"dataframe\">\n",
       "  <thead>\n",
       "    <tr style=\"text-align: right;\">\n",
       "      <th></th>\n",
       "      <th>Invoice ID</th>\n",
       "      <th>Branch</th>\n",
       "      <th>City</th>\n",
       "      <th>Customer_type</th>\n",
       "      <th>Gender</th>\n",
       "      <th>Product_line</th>\n",
       "      <th>Unit_price</th>\n",
       "      <th>Quantity</th>\n",
       "      <th>Tax</th>\n",
       "      <th>Total</th>\n",
       "      <th>Date</th>\n",
       "      <th>Time</th>\n",
       "      <th>Payment</th>\n",
       "      <th>cogs</th>\n",
       "      <th>gross margin percentage</th>\n",
       "      <th>gross income</th>\n",
       "      <th>Rating</th>\n",
       "    </tr>\n",
       "  </thead>\n",
       "  <tbody>\n",
       "    <tr>\n",
       "      <th>0</th>\n",
       "      <td>750-67-8428</td>\n",
       "      <td>1</td>\n",
       "      <td>1</td>\n",
       "      <td>1</td>\n",
       "      <td>1</td>\n",
       "      <td>1</td>\n",
       "      <td>74.69</td>\n",
       "      <td>7</td>\n",
       "      <td>26.1415</td>\n",
       "      <td>548.9715</td>\n",
       "      <td>1/5/2019</td>\n",
       "      <td>13:08</td>\n",
       "      <td>1</td>\n",
       "      <td>522.83</td>\n",
       "      <td>4.761905</td>\n",
       "      <td>26.1415</td>\n",
       "      <td>9.1</td>\n",
       "    </tr>\n",
       "    <tr>\n",
       "      <th>1</th>\n",
       "      <td>226-31-3081</td>\n",
       "      <td>2</td>\n",
       "      <td>2</td>\n",
       "      <td>2</td>\n",
       "      <td>1</td>\n",
       "      <td>2</td>\n",
       "      <td>15.28</td>\n",
       "      <td>5</td>\n",
       "      <td>3.8200</td>\n",
       "      <td>80.2200</td>\n",
       "      <td>3/8/2019</td>\n",
       "      <td>10:29</td>\n",
       "      <td>2</td>\n",
       "      <td>76.40</td>\n",
       "      <td>4.761905</td>\n",
       "      <td>3.8200</td>\n",
       "      <td>9.6</td>\n",
       "    </tr>\n",
       "    <tr>\n",
       "      <th>2</th>\n",
       "      <td>631-41-3108</td>\n",
       "      <td>1</td>\n",
       "      <td>1</td>\n",
       "      <td>2</td>\n",
       "      <td>2</td>\n",
       "      <td>3</td>\n",
       "      <td>46.33</td>\n",
       "      <td>7</td>\n",
       "      <td>16.2155</td>\n",
       "      <td>340.5255</td>\n",
       "      <td>3/3/2019</td>\n",
       "      <td>13:23</td>\n",
       "      <td>3</td>\n",
       "      <td>324.31</td>\n",
       "      <td>4.761905</td>\n",
       "      <td>16.2155</td>\n",
       "      <td>7.4</td>\n",
       "    </tr>\n",
       "    <tr>\n",
       "      <th>3</th>\n",
       "      <td>123-19-1176</td>\n",
       "      <td>1</td>\n",
       "      <td>1</td>\n",
       "      <td>1</td>\n",
       "      <td>2</td>\n",
       "      <td>1</td>\n",
       "      <td>58.22</td>\n",
       "      <td>8</td>\n",
       "      <td>23.2880</td>\n",
       "      <td>489.0480</td>\n",
       "      <td>1/27/2019</td>\n",
       "      <td>20:33</td>\n",
       "      <td>1</td>\n",
       "      <td>465.76</td>\n",
       "      <td>4.761905</td>\n",
       "      <td>23.2880</td>\n",
       "      <td>8.4</td>\n",
       "    </tr>\n",
       "    <tr>\n",
       "      <th>4</th>\n",
       "      <td>373-73-7910</td>\n",
       "      <td>1</td>\n",
       "      <td>1</td>\n",
       "      <td>2</td>\n",
       "      <td>2</td>\n",
       "      <td>4</td>\n",
       "      <td>86.31</td>\n",
       "      <td>7</td>\n",
       "      <td>30.2085</td>\n",
       "      <td>634.3785</td>\n",
       "      <td>2/8/2019</td>\n",
       "      <td>10:37</td>\n",
       "      <td>1</td>\n",
       "      <td>604.17</td>\n",
       "      <td>4.761905</td>\n",
       "      <td>30.2085</td>\n",
       "      <td>5.3</td>\n",
       "    </tr>\n",
       "  </tbody>\n",
       "</table>\n",
       "</div>"
      ],
      "text/plain": [
       "    Invoice ID  Branch  City  Customer_type  Gender  Product_line  Unit_price  \\\n",
       "0  750-67-8428       1     1              1       1             1       74.69   \n",
       "1  226-31-3081       2     2              2       1             2       15.28   \n",
       "2  631-41-3108       1     1              2       2             3       46.33   \n",
       "3  123-19-1176       1     1              1       2             1       58.22   \n",
       "4  373-73-7910       1     1              2       2             4       86.31   \n",
       "\n",
       "   Quantity      Tax     Total       Date   Time  Payment    cogs  \\\n",
       "0         7  26.1415  548.9715   1/5/2019  13:08        1  522.83   \n",
       "1         5   3.8200   80.2200   3/8/2019  10:29        2   76.40   \n",
       "2         7  16.2155  340.5255   3/3/2019  13:23        3  324.31   \n",
       "3         8  23.2880  489.0480  1/27/2019  20:33        1  465.76   \n",
       "4         7  30.2085  634.3785   2/8/2019  10:37        1  604.17   \n",
       "\n",
       "   gross margin percentage  gross income  Rating  \n",
       "0                 4.761905       26.1415     9.1  \n",
       "1                 4.761905        3.8200     9.6  \n",
       "2                 4.761905       16.2155     7.4  \n",
       "3                 4.761905       23.2880     8.4  \n",
       "4                 4.761905       30.2085     5.3  "
      ]
     },
     "execution_count": 78,
     "metadata": {},
     "output_type": "execute_result"
    }
   ],
   "source": [
    "df.head()"
   ]
  },
  {
   "cell_type": "code",
   "execution_count": 107,
   "id": "f43e716e",
   "metadata": {},
   "outputs": [],
   "source": [
    "x = df [['Product_line','City']]"
   ]
  },
  {
   "cell_type": "code",
   "execution_count": 108,
   "id": "b46836e9",
   "metadata": {},
   "outputs": [],
   "source": [
    "y = df ['Total']"
   ]
  },
  {
   "cell_type": "code",
   "execution_count": 94,
   "id": "64378456",
   "metadata": {},
   "outputs": [
    {
     "data": {
      "image/png": "[encoded data removed]",
      "text/plain": [
       "<Figure size 432x288 with 1 Axes>"
      ]
     },
     "metadata": {
      "needs_background": "light"
     },
     "output_type": "display_data"
    }
   ],
   "source": [
    "plt.scatter(x['Product_line'], y)\n",
    "\n",
    "plt.xlabel('Product_line', fontsize=15)\n",
    "plt.xlabel('Total', fontsize=15)\n",
    "\n",
    "plt.show()"
   ]
  },
  {
   "cell_type": "code",
   "execution_count": 109,
   "id": "cbf8fd87",
   "metadata": {},
   "outputs": [
    {
     "data": {
      "image/png": "[encoded data removed]",
      "text/plain": [
       "<Figure size 432x288 with 1 Axes>"
      ]
     },
     "metadata": {
      "needs_background": "light"
     },
     "output_type": "display_data"
    }
   ],
   "source": [
    "plt.scatter(x['City'], y)\n",
    "\n",
    "plt.xlabel('City', fontsize=15)\n",
    "plt.xlabel('Total', fontsize=15)\n",
    "\n",
    "plt.show()"
   ]
  },
  {
   "cell_type": "code",
   "execution_count": 110,
   "id": "843bb7ed",
   "metadata": {},
   "outputs": [
    {
     "data": {
      "text/plain": [
       "LinearRegression()"
      ]
     },
     "execution_count": 110,
     "metadata": {},
     "output_type": "execute_result"
    }
   ],
   "source": [
    "reg = LinearRegression()\n",
    "reg.fit(x,y)"
   ]
  },
  {
   "cell_type": "code",
   "execution_count": 111,
   "id": "e94bdae1",
   "metadata": {},
   "outputs": [
    {
     "data": {
      "text/plain": [
       "324.80319137165895"
      ]
     },
     "execution_count": 111,
     "metadata": {},
     "output_type": "execute_result"
    }
   ],
   "source": [
    "reg.intercept_"
   ]
  },
  {
   "cell_type": "code",
   "execution_count": 112,
   "id": "999e502d",
   "metadata": {},
   "outputs": [
    {
     "data": {
      "text/plain": [
       "array([-2.69406845,  3.91172603])"
      ]
     },
     "execution_count": 112,
     "metadata": {},
     "output_type": "execute_result"
    }
   ],
   "source": [
    "reg.coef_"
   ]
  },
  {
   "cell_type": "code",
   "execution_count": 113,
   "id": "919fb89b",
   "metadata": {},
   "outputs": [
    {
     "data": {
      "text/plain": [
       "0.0005140805839444207"
      ]
     },
     "execution_count": 113,
     "metadata": {},
     "output_type": "execute_result"
    }
   ],
   "source": [
    "reg.score(x,y)"
   ]
  },
  {
   "cell_type": "code",
   "execution_count": 114,
   "id": "b688884e",
   "metadata": {},
   "outputs": [
    {
     "data": {
      "text/plain": [
       "(1000, 2)"
      ]
     },
     "execution_count": 114,
     "metadata": {},
     "output_type": "execute_result"
    }
   ],
   "source": [
    "x.shape"
   ]
  },
  {
   "cell_type": "code",
   "execution_count": 115,
   "id": "acd33617",
   "metadata": {},
   "outputs": [
    {
     "data": {
      "text/plain": [
       "-0.0014909062152854702"
      ]
     },
     "execution_count": 115,
     "metadata": {},
     "output_type": "execute_result"
    }
   ],
   "source": [
    "#düzeltilmiş r kareyi bulmak için, r kareyi, gözlem sayısını ve özellik sayısını bilmeliyiz\n",
    "r2= reg.score(x,y)\n",
    "\n",
    "#gözlem sayısı  (n), eksen 0 boyunca olan şekildir\n",
    "n=x.shape[0]\n",
    "\n",
    "#özellik sayısı (öngörücüler , p) eksen 1 boyunca şeklidir\n",
    "p= x.shape[1]\n",
    "\n",
    "#düzeltilmiş r kareyi aşağıdaki formulle buluruz\n",
    "düzeltilmis_r2= 1-(1-r2)*(n-1)/(n-p-1)\n",
    "düzeltilmis_r2"
   ]
  },
  {
   "cell_type": "code",
   "execution_count": 116,
   "id": "98d0e9fc",
   "metadata": {},
   "outputs": [
    {
     "data": {
      "text/html": [
       "<div>\n",
       "<style scoped>\n",
       "    .dataframe tbody tr th:only-of-type {\n",
       "        vertical-align: middle;\n",
       "    }\n",
       "\n",
       "    .dataframe tbody tr th {\n",
       "        vertical-align: top;\n",
       "    }\n",
       "\n",
       "    .dataframe thead th {\n",
       "        text-align: right;\n",
       "    }\n",
       "</style>\n",
       "<table border=\"1\" class=\"dataframe\">\n",
       "  <thead>\n",
       "    <tr style=\"text-align: right;\">\n",
       "      <th></th>\n",
       "      <th>Invoice ID</th>\n",
       "      <th>Branch</th>\n",
       "      <th>City</th>\n",
       "      <th>Customer_type</th>\n",
       "      <th>Gender</th>\n",
       "      <th>Product_line</th>\n",
       "      <th>Unit_price</th>\n",
       "      <th>Quantity</th>\n",
       "      <th>Tax</th>\n",
       "      <th>Total</th>\n",
       "      <th>Date</th>\n",
       "      <th>Time</th>\n",
       "      <th>Payment</th>\n",
       "      <th>cogs</th>\n",
       "      <th>gross margin percentage</th>\n",
       "      <th>gross income</th>\n",
       "      <th>Rating</th>\n",
       "    </tr>\n",
       "  </thead>\n",
       "  <tbody>\n",
       "    <tr>\n",
       "      <th>0</th>\n",
       "      <td>750-67-8428</td>\n",
       "      <td>1</td>\n",
       "      <td>1</td>\n",
       "      <td>1</td>\n",
       "      <td>1</td>\n",
       "      <td>1</td>\n",
       "      <td>74.69</td>\n",
       "      <td>7</td>\n",
       "      <td>26.1415</td>\n",
       "      <td>548.9715</td>\n",
       "      <td>1/5/2019</td>\n",
       "      <td>13:08</td>\n",
       "      <td>1</td>\n",
       "      <td>522.83</td>\n",
       "      <td>4.761905</td>\n",
       "      <td>26.1415</td>\n",
       "      <td>9.1</td>\n",
       "    </tr>\n",
       "    <tr>\n",
       "      <th>1</th>\n",
       "      <td>226-31-3081</td>\n",
       "      <td>2</td>\n",
       "      <td>2</td>\n",
       "      <td>2</td>\n",
       "      <td>1</td>\n",
       "      <td>2</td>\n",
       "      <td>15.28</td>\n",
       "      <td>5</td>\n",
       "      <td>3.8200</td>\n",
       "      <td>80.2200</td>\n",
       "      <td>3/8/2019</td>\n",
       "      <td>10:29</td>\n",
       "      <td>2</td>\n",
       "      <td>76.40</td>\n",
       "      <td>4.761905</td>\n",
       "      <td>3.8200</td>\n",
       "      <td>9.6</td>\n",
       "    </tr>\n",
       "    <tr>\n",
       "      <th>2</th>\n",
       "      <td>631-41-3108</td>\n",
       "      <td>1</td>\n",
       "      <td>1</td>\n",
       "      <td>2</td>\n",
       "      <td>2</td>\n",
       "      <td>3</td>\n",
       "      <td>46.33</td>\n",
       "      <td>7</td>\n",
       "      <td>16.2155</td>\n",
       "      <td>340.5255</td>\n",
       "      <td>3/3/2019</td>\n",
       "      <td>13:23</td>\n",
       "      <td>3</td>\n",
       "      <td>324.31</td>\n",
       "      <td>4.761905</td>\n",
       "      <td>16.2155</td>\n",
       "      <td>7.4</td>\n",
       "    </tr>\n",
       "    <tr>\n",
       "      <th>3</th>\n",
       "      <td>123-19-1176</td>\n",
       "      <td>1</td>\n",
       "      <td>1</td>\n",
       "      <td>1</td>\n",
       "      <td>2</td>\n",
       "      <td>1</td>\n",
       "      <td>58.22</td>\n",
       "      <td>8</td>\n",
       "      <td>23.2880</td>\n",
       "      <td>489.0480</td>\n",
       "      <td>1/27/2019</td>\n",
       "      <td>20:33</td>\n",
       "      <td>1</td>\n",
       "      <td>465.76</td>\n",
       "      <td>4.761905</td>\n",
       "      <td>23.2880</td>\n",
       "      <td>8.4</td>\n",
       "    </tr>\n",
       "    <tr>\n",
       "      <th>4</th>\n",
       "      <td>373-73-7910</td>\n",
       "      <td>1</td>\n",
       "      <td>1</td>\n",
       "      <td>2</td>\n",
       "      <td>2</td>\n",
       "      <td>4</td>\n",
       "      <td>86.31</td>\n",
       "      <td>7</td>\n",
       "      <td>30.2085</td>\n",
       "      <td>634.3785</td>\n",
       "      <td>2/8/2019</td>\n",
       "      <td>10:37</td>\n",
       "      <td>1</td>\n",
       "      <td>604.17</td>\n",
       "      <td>4.761905</td>\n",
       "      <td>30.2085</td>\n",
       "      <td>5.3</td>\n",
       "    </tr>\n",
       "    <tr>\n",
       "      <th>...</th>\n",
       "      <td>...</td>\n",
       "      <td>...</td>\n",
       "      <td>...</td>\n",
       "      <td>...</td>\n",
       "      <td>...</td>\n",
       "      <td>...</td>\n",
       "      <td>...</td>\n",
       "      <td>...</td>\n",
       "      <td>...</td>\n",
       "      <td>...</td>\n",
       "      <td>...</td>\n",
       "      <td>...</td>\n",
       "      <td>...</td>\n",
       "      <td>...</td>\n",
       "      <td>...</td>\n",
       "      <td>...</td>\n",
       "      <td>...</td>\n",
       "    </tr>\n",
       "    <tr>\n",
       "      <th>772</th>\n",
       "      <td>201-63-8275</td>\n",
       "      <td>2</td>\n",
       "      <td>2</td>\n",
       "      <td>1</td>\n",
       "      <td>1</td>\n",
       "      <td>4</td>\n",
       "      <td>67.99</td>\n",
       "      <td>7</td>\n",
       "      <td>23.7965</td>\n",
       "      <td>499.7265</td>\n",
       "      <td>2/17/2019</td>\n",
       "      <td>16:50</td>\n",
       "      <td>1</td>\n",
       "      <td>475.93</td>\n",
       "      <td>4.761905</td>\n",
       "      <td>23.7965</td>\n",
       "      <td>5.7</td>\n",
       "    </tr>\n",
       "    <tr>\n",
       "      <th>773</th>\n",
       "      <td>471-06-8611</td>\n",
       "      <td>2</td>\n",
       "      <td>2</td>\n",
       "      <td>2</td>\n",
       "      <td>1</td>\n",
       "      <td>5</td>\n",
       "      <td>52.42</td>\n",
       "      <td>1</td>\n",
       "      <td>2.6210</td>\n",
       "      <td>55.0410</td>\n",
       "      <td>2/6/2019</td>\n",
       "      <td>10:22</td>\n",
       "      <td>3</td>\n",
       "      <td>52.42</td>\n",
       "      <td>4.761905</td>\n",
       "      <td>2.6210</td>\n",
       "      <td>6.3</td>\n",
       "    </tr>\n",
       "    <tr>\n",
       "      <th>774</th>\n",
       "      <td>200-16-5952</td>\n",
       "      <td>2</td>\n",
       "      <td>2</td>\n",
       "      <td>1</td>\n",
       "      <td>2</td>\n",
       "      <td>5</td>\n",
       "      <td>65.65</td>\n",
       "      <td>2</td>\n",
       "      <td>6.5650</td>\n",
       "      <td>137.8650</td>\n",
       "      <td>1/17/2019</td>\n",
       "      <td>16:46</td>\n",
       "      <td>2</td>\n",
       "      <td>131.30</td>\n",
       "      <td>4.761905</td>\n",
       "      <td>6.5650</td>\n",
       "      <td>6.0</td>\n",
       "    </tr>\n",
       "    <tr>\n",
       "      <th>775</th>\n",
       "      <td>120-54-2248</td>\n",
       "      <td>3</td>\n",
       "      <td>3</td>\n",
       "      <td>2</td>\n",
       "      <td>1</td>\n",
       "      <td>5</td>\n",
       "      <td>28.86</td>\n",
       "      <td>5</td>\n",
       "      <td>7.2150</td>\n",
       "      <td>151.5150</td>\n",
       "      <td>1/22/2019</td>\n",
       "      <td>18:08</td>\n",
       "      <td>3</td>\n",
       "      <td>144.30</td>\n",
       "      <td>4.761905</td>\n",
       "      <td>7.2150</td>\n",
       "      <td>8.0</td>\n",
       "    </tr>\n",
       "    <tr>\n",
       "      <th>776</th>\n",
       "      <td>102-77-2261</td>\n",
       "      <td>2</td>\n",
       "      <td>2</td>\n",
       "      <td>1</td>\n",
       "      <td>2</td>\n",
       "      <td>1</td>\n",
       "      <td>65.31</td>\n",
       "      <td>7</td>\n",
       "      <td>22.8585</td>\n",
       "      <td>480.0285</td>\n",
       "      <td>3/5/2019</td>\n",
       "      <td>18:02</td>\n",
       "      <td>3</td>\n",
       "      <td>457.17</td>\n",
       "      <td>4.761905</td>\n",
       "      <td>22.8585</td>\n",
       "      <td>4.2</td>\n",
       "    </tr>\n",
       "  </tbody>\n",
       "</table>\n",
       "<p>777 rows × 17 columns</p>\n",
       "</div>"
      ],
      "text/plain": [
       "      Invoice ID  Branch  City  Customer_type  Gender  Product_line  \\\n",
       "0    750-67-8428       1     1              1       1             1   \n",
       "1    226-31-3081       2     2              2       1             2   \n",
       "2    631-41-3108       1     1              2       2             3   \n",
       "3    123-19-1176       1     1              1       2             1   \n",
       "4    373-73-7910       1     1              2       2             4   \n",
       "..           ...     ...   ...            ...     ...           ...   \n",
       "772  201-63-8275       2     2              1       1             4   \n",
       "773  471-06-8611       2     2              2       1             5   \n",
       "774  200-16-5952       2     2              1       2             5   \n",
       "775  120-54-2248       3     3              2       1             5   \n",
       "776  102-77-2261       2     2              1       2             1   \n",
       "\n",
       "     Unit_price  Quantity      Tax     Total       Date   Time  Payment  \\\n",
       "0         74.69         7  26.1415  548.9715   1/5/2019  13:08        1   \n",
       "1         15.28         5   3.8200   80.2200   3/8/2019  10:29        2   \n",
       "2         46.33         7  16.2155  340.5255   3/3/2019  13:23        3   \n",
       "3         58.22         8  23.2880  489.0480  1/27/2019  20:33        1   \n",
       "4         86.31         7  30.2085  634.3785   2/8/2019  10:37        1   \n",
       "..          ...       ...      ...       ...        ...    ...      ...   \n",
       "772       67.99         7  23.7965  499.7265  2/17/2019  16:50        1   \n",
       "773       52.42         1   2.6210   55.0410   2/6/2019  10:22        3   \n",
       "774       65.65         2   6.5650  137.8650  1/17/2019  16:46        2   \n",
       "775       28.86         5   7.2150  151.5150  1/22/2019  18:08        3   \n",
       "776       65.31         7  22.8585  480.0285   3/5/2019  18:02        3   \n",
       "\n",
       "       cogs  gross margin percentage  gross income  Rating  \n",
       "0    522.83                 4.761905       26.1415     9.1  \n",
       "1     76.40                 4.761905        3.8200     9.6  \n",
       "2    324.31                 4.761905       16.2155     7.4  \n",
       "3    465.76                 4.761905       23.2880     8.4  \n",
       "4    604.17                 4.761905       30.2085     5.3  \n",
       "..      ...                      ...           ...     ...  \n",
       "772  475.93                 4.761905       23.7965     5.7  \n",
       "773   52.42                 4.761905        2.6210     6.3  \n",
       "774  131.30                 4.761905        6.5650     6.0  \n",
       "775  144.30                 4.761905        7.2150     8.0  \n",
       "776  457.17                 4.761905       22.8585     4.2  \n",
       "\n",
       "[777 rows x 17 columns]"
      ]
     },
     "execution_count": 116,
     "metadata": {},
     "output_type": "execute_result"
    }
   ],
   "source": [
    "df.head(777)"
   ]
  },
  {
   "cell_type": "code",
   "execution_count": 117,
   "id": "3ecfb554",
   "metadata": {},
   "outputs": [
    {
     "data": {
      "text/plain": [
       "array([326.02084896])"
      ]
     },
     "execution_count": 117,
     "metadata": {},
     "output_type": "execute_result"
    }
   ],
   "source": [
    "reg.predict([[1,1]]) "
   ]
  },
  {
   "cell_type": "code",
   "execution_count": 129,
   "id": "fb714643",
   "metadata": {},
   "outputs": [
    {
     "data": {
      "text/plain": [
       "array([323.32678051])"
      ]
     },
     "execution_count": 129,
     "metadata": {},
     "output_type": "execute_result"
    }
   ],
   "source": [
    "reg.predict([[2,1]]) "
   ]
  },
  {
   "cell_type": "code",
   "execution_count": 130,
   "id": "adde2756",
   "metadata": {},
   "outputs": [
    {
     "data": {
      "text/plain": [
       "array([320.63271206])"
      ]
     },
     "execution_count": 130,
     "metadata": {},
     "output_type": "execute_result"
    }
   ],
   "source": [
    "reg.predict([[3,1]]) "
   ]
  },
  {
   "cell_type": "code",
   "execution_count": 131,
   "id": "e20b194c",
   "metadata": {},
   "outputs": [
    {
     "data": {
      "text/plain": [
       "array([317.93864362])"
      ]
     },
     "execution_count": 131,
     "metadata": {},
     "output_type": "execute_result"
    }
   ],
   "source": [
    "reg.predict([[4,1]]) "
   ]
  },
  {
   "cell_type": "code",
   "execution_count": 132,
   "id": "f5e9c19e",
   "metadata": {},
   "outputs": [
    {
     "data": {
      "text/plain": [
       "array([315.24457517])"
      ]
     },
     "execution_count": 132,
     "metadata": {},
     "output_type": "execute_result"
    }
   ],
   "source": [
    "reg.predict([[5,1]]) "
   ]
  },
  {
   "cell_type": "code",
   "execution_count": 133,
   "id": "d4bab438",
   "metadata": {},
   "outputs": [
    {
     "data": {
      "text/plain": [
       "array([312.55050672])"
      ]
     },
     "execution_count": 133,
     "metadata": {},
     "output_type": "execute_result"
    }
   ],
   "source": [
    "reg.predict([[6,1]]) "
   ]
  },
  {
   "cell_type": "code",
   "execution_count": 134,
   "id": "9f4ba975",
   "metadata": {},
   "outputs": [
    {
     "data": {
      "text/plain": [
       "array([329.93257499])"
      ]
     },
     "execution_count": 134,
     "metadata": {},
     "output_type": "execute_result"
    }
   ],
   "source": [
    "reg.predict([[1,2]]) "
   ]
  },
  {
   "cell_type": "code",
   "execution_count": 136,
   "id": "a55a7946",
   "metadata": {},
   "outputs": [
    {
     "data": {
      "text/plain": [
       "array([327.23850654])"
      ]
     },
     "execution_count": 136,
     "metadata": {},
     "output_type": "execute_result"
    }
   ],
   "source": [
    "reg.predict([[2,2]]) "
   ]
  },
  {
   "cell_type": "code",
   "execution_count": 137,
   "id": "1e89a81e",
   "metadata": {},
   "outputs": [
    {
     "data": {
      "text/plain": [
       "array([324.5444381])"
      ]
     },
     "execution_count": 137,
     "metadata": {},
     "output_type": "execute_result"
    }
   ],
   "source": [
    "reg.predict([[3,2]]) "
   ]
  },
  {
   "cell_type": "code",
   "execution_count": 138,
   "id": "a3ffde34",
   "metadata": {},
   "outputs": [
    {
     "data": {
      "text/plain": [
       "array([321.85036965])"
      ]
     },
     "execution_count": 138,
     "metadata": {},
     "output_type": "execute_result"
    }
   ],
   "source": [
    "reg.predict([[4,2]]) "
   ]
  },
  {
   "cell_type": "code",
   "execution_count": 139,
   "id": "0e940663",
   "metadata": {},
   "outputs": [
    {
     "data": {
      "text/plain": [
       "array([319.1563012])"
      ]
     },
     "execution_count": 139,
     "metadata": {},
     "output_type": "execute_result"
    }
   ],
   "source": [
    "reg.predict([[5,2]]) "
   ]
  },
  {
   "cell_type": "code",
   "execution_count": 140,
   "id": "71611d37",
   "metadata": {},
   "outputs": [
    {
     "data": {
      "text/plain": [
       "array([316.46223276])"
      ]
     },
     "execution_count": 140,
     "metadata": {},
     "output_type": "execute_result"
    }
   ],
   "source": [
    "reg.predict([[6,2]]) "
   ]
  },
  {
   "cell_type": "code",
   "execution_count": 141,
   "id": "afc7c69a",
   "metadata": {},
   "outputs": [
    {
     "data": {
      "text/plain": [
       "array([333.84430103])"
      ]
     },
     "execution_count": 141,
     "metadata": {},
     "output_type": "execute_result"
    }
   ],
   "source": [
    "reg.predict([[1,3]]) "
   ]
  },
  {
   "cell_type": "code",
   "execution_count": 158,
   "id": "4d487431",
   "metadata": {},
   "outputs": [
    {
     "data": {
      "text/plain": [
       "array([331.15023258])"
      ]
     },
     "execution_count": 158,
     "metadata": {},
     "output_type": "execute_result"
    }
   ],
   "source": [
    "reg.predict([[2,3]]) "
   ]
  },
  {
   "cell_type": "code",
   "execution_count": 142,
   "id": "b9734b6d",
   "metadata": {},
   "outputs": [
    {
     "data": {
      "text/plain": [
       "array([328.45616413])"
      ]
     },
     "execution_count": 142,
     "metadata": {},
     "output_type": "execute_result"
    }
   ],
   "source": [
    "reg.predict([[3,3]]) "
   ]
  },
  {
   "cell_type": "code",
   "execution_count": 143,
   "id": "a21d6493",
   "metadata": {},
   "outputs": [
    {
     "data": {
      "text/plain": [
       "array([325.76209568])"
      ]
     },
     "execution_count": 143,
     "metadata": {},
     "output_type": "execute_result"
    }
   ],
   "source": [
    "reg.predict([[4,3]]) "
   ]
  },
  {
   "cell_type": "code",
   "execution_count": 144,
   "id": "2ae5dcca",
   "metadata": {},
   "outputs": [
    {
     "data": {
      "text/plain": [
       "array([323.06802724])"
      ]
     },
     "execution_count": 144,
     "metadata": {},
     "output_type": "execute_result"
    }
   ],
   "source": [
    "reg.predict([[5,3]]) "
   ]
  },
  {
   "cell_type": "code",
   "execution_count": 145,
   "id": "a891dff6",
   "metadata": {},
   "outputs": [
    {
     "data": {
      "text/plain": [
       "array([320.37395879])"
      ]
     },
     "execution_count": 145,
     "metadata": {},
     "output_type": "execute_result"
    }
   ],
   "source": [
    "reg.predict([[6,3]]) "
   ]
  },
  {
   "cell_type": "code",
   "execution_count": 154,
   "id": "b5c428ff",
   "metadata": {},
   "outputs": [
    {
     "data": {
      "text/plain": [
       "array([0.5580581 , 0.68572835])"
      ]
     },
     "execution_count": 154,
     "metadata": {},
     "output_type": "execute_result"
    }
   ],
   "source": [
    "p_values= f_regression(x,y) [1]\n",
    "p_values"
   ]
  },
  {
   "cell_type": "code",
   "execution_count": 155,
   "id": "7af8eeb9",
   "metadata": {},
   "outputs": [
    {
     "data": {
      "text/plain": [
       "array([0.558, 0.686])"
      ]
     },
     "execution_count": 155,
     "metadata": {},
     "output_type": "execute_result"
    }
   ],
   "source": [
    "p_values.round(3)"
   ]
  },
  {
   "cell_type": "code",
   "execution_count": 156,
   "id": "3679627a",
   "metadata": {},
   "outputs": [
    {
     "data": {
      "text/html": [
       "<div>\n",
       "<style scoped>\n",
       "    .dataframe tbody tr th:only-of-type {\n",
       "        vertical-align: middle;\n",
       "    }\n",
       "\n",
       "    .dataframe tbody tr th {\n",
       "        vertical-align: top;\n",
       "    }\n",
       "\n",
       "    .dataframe thead th {\n",
       "        text-align: right;\n",
       "    }\n",
       "</style>\n",
       "<table border=\"1\" class=\"dataframe\">\n",
       "  <thead>\n",
       "    <tr style=\"text-align: right;\">\n",
       "      <th></th>\n",
       "      <th>özellik</th>\n",
       "      <th>Katsayılar</th>\n",
       "      <th>p-değerleri</th>\n",
       "    </tr>\n",
       "  </thead>\n",
       "  <tbody>\n",
       "    <tr>\n",
       "      <th>0</th>\n",
       "      <td>Product_line</td>\n",
       "      <td>-2.694068</td>\n",
       "      <td>0.558</td>\n",
       "    </tr>\n",
       "    <tr>\n",
       "      <th>1</th>\n",
       "      <td>City</td>\n",
       "      <td>3.911726</td>\n",
       "      <td>0.686</td>\n",
       "    </tr>\n",
       "  </tbody>\n",
       "</table>\n",
       "</div>"
      ],
      "text/plain": [
       "        özellik  Katsayılar  p-değerleri\n",
       "0  Product_line   -2.694068        0.558\n",
       "1          City    3.911726        0.686"
      ]
     },
     "execution_count": 156,
     "metadata": {},
     "output_type": "execute_result"
    }
   ],
   "source": [
    "reg_summary= pd.DataFrame(data= x.columns.values, columns= ['özellik'])\n",
    "reg_summary ['Katsayılar'] = reg.coef_\n",
    "reg_summary ['p-değerleri'] = p_values.round(3)\n",
    "reg_summary\n",
    "\n"
   ]
  },
  {
   "cell_type": "code",
   "execution_count": 157,
   "id": "38cb4431",
   "metadata": {},
   "outputs": [],
   "source": [
    "#görünüşe göre gender ve branch istatiksel olarak anlamlıdır ve datadan cıkarılmamalıdır."
   ]
  },
  {
   "cell_type": "code",
   "execution_count": 159,
   "id": "ca3b7714",
   "metadata": {},
   "outputs": [
    {
     "data": {
      "text/html": [
       "<div>\n",
       "<style scoped>\n",
       "    .dataframe tbody tr th:only-of-type {\n",
       "        vertical-align: middle;\n",
       "    }\n",
       "\n",
       "    .dataframe tbody tr th {\n",
       "        vertical-align: top;\n",
       "    }\n",
       "\n",
       "    .dataframe thead th {\n",
       "        text-align: right;\n",
       "    }\n",
       "</style>\n",
       "<table border=\"1\" class=\"dataframe\">\n",
       "  <thead>\n",
       "    <tr style=\"text-align: right;\">\n",
       "      <th></th>\n",
       "      <th>Invoice ID</th>\n",
       "      <th>Branch</th>\n",
       "      <th>City</th>\n",
       "      <th>Customer_type</th>\n",
       "      <th>Gender</th>\n",
       "      <th>Product_line</th>\n",
       "      <th>Unit_price</th>\n",
       "      <th>Quantity</th>\n",
       "      <th>Tax</th>\n",
       "      <th>Total</th>\n",
       "      <th>Date</th>\n",
       "      <th>Time</th>\n",
       "      <th>Payment</th>\n",
       "      <th>cogs</th>\n",
       "      <th>gross margin percentage</th>\n",
       "      <th>gross income</th>\n",
       "      <th>Rating</th>\n",
       "    </tr>\n",
       "  </thead>\n",
       "  <tbody>\n",
       "    <tr>\n",
       "      <th>0</th>\n",
       "      <td>750-67-8428</td>\n",
       "      <td>1</td>\n",
       "      <td>1</td>\n",
       "      <td>1</td>\n",
       "      <td>1</td>\n",
       "      <td>1</td>\n",
       "      <td>74.69</td>\n",
       "      <td>7</td>\n",
       "      <td>26.1415</td>\n",
       "      <td>548.9715</td>\n",
       "      <td>1/5/2019</td>\n",
       "      <td>13:08</td>\n",
       "      <td>1</td>\n",
       "      <td>522.83</td>\n",
       "      <td>4.761905</td>\n",
       "      <td>26.1415</td>\n",
       "      <td>9.1</td>\n",
       "    </tr>\n",
       "    <tr>\n",
       "      <th>1</th>\n",
       "      <td>226-31-3081</td>\n",
       "      <td>2</td>\n",
       "      <td>2</td>\n",
       "      <td>2</td>\n",
       "      <td>1</td>\n",
       "      <td>2</td>\n",
       "      <td>15.28</td>\n",
       "      <td>5</td>\n",
       "      <td>3.8200</td>\n",
       "      <td>80.2200</td>\n",
       "      <td>3/8/2019</td>\n",
       "      <td>10:29</td>\n",
       "      <td>2</td>\n",
       "      <td>76.40</td>\n",
       "      <td>4.761905</td>\n",
       "      <td>3.8200</td>\n",
       "      <td>9.6</td>\n",
       "    </tr>\n",
       "    <tr>\n",
       "      <th>2</th>\n",
       "      <td>631-41-3108</td>\n",
       "      <td>1</td>\n",
       "      <td>1</td>\n",
       "      <td>2</td>\n",
       "      <td>2</td>\n",
       "      <td>3</td>\n",
       "      <td>46.33</td>\n",
       "      <td>7</td>\n",
       "      <td>16.2155</td>\n",
       "      <td>340.5255</td>\n",
       "      <td>3/3/2019</td>\n",
       "      <td>13:23</td>\n",
       "      <td>3</td>\n",
       "      <td>324.31</td>\n",
       "      <td>4.761905</td>\n",
       "      <td>16.2155</td>\n",
       "      <td>7.4</td>\n",
       "    </tr>\n",
       "    <tr>\n",
       "      <th>3</th>\n",
       "      <td>123-19-1176</td>\n",
       "      <td>1</td>\n",
       "      <td>1</td>\n",
       "      <td>1</td>\n",
       "      <td>2</td>\n",
       "      <td>1</td>\n",
       "      <td>58.22</td>\n",
       "      <td>8</td>\n",
       "      <td>23.2880</td>\n",
       "      <td>489.0480</td>\n",
       "      <td>1/27/2019</td>\n",
       "      <td>20:33</td>\n",
       "      <td>1</td>\n",
       "      <td>465.76</td>\n",
       "      <td>4.761905</td>\n",
       "      <td>23.2880</td>\n",
       "      <td>8.4</td>\n",
       "    </tr>\n",
       "    <tr>\n",
       "      <th>4</th>\n",
       "      <td>373-73-7910</td>\n",
       "      <td>1</td>\n",
       "      <td>1</td>\n",
       "      <td>2</td>\n",
       "      <td>2</td>\n",
       "      <td>4</td>\n",
       "      <td>86.31</td>\n",
       "      <td>7</td>\n",
       "      <td>30.2085</td>\n",
       "      <td>634.3785</td>\n",
       "      <td>2/8/2019</td>\n",
       "      <td>10:37</td>\n",
       "      <td>1</td>\n",
       "      <td>604.17</td>\n",
       "      <td>4.761905</td>\n",
       "      <td>30.2085</td>\n",
       "      <td>5.3</td>\n",
       "    </tr>\n",
       "    <tr>\n",
       "      <th>...</th>\n",
       "      <td>...</td>\n",
       "      <td>...</td>\n",
       "      <td>...</td>\n",
       "      <td>...</td>\n",
       "      <td>...</td>\n",
       "      <td>...</td>\n",
       "      <td>...</td>\n",
       "      <td>...</td>\n",
       "      <td>...</td>\n",
       "      <td>...</td>\n",
       "      <td>...</td>\n",
       "      <td>...</td>\n",
       "      <td>...</td>\n",
       "      <td>...</td>\n",
       "      <td>...</td>\n",
       "      <td>...</td>\n",
       "      <td>...</td>\n",
       "    </tr>\n",
       "    <tr>\n",
       "      <th>772</th>\n",
       "      <td>201-63-8275</td>\n",
       "      <td>2</td>\n",
       "      <td>2</td>\n",
       "      <td>1</td>\n",
       "      <td>1</td>\n",
       "      <td>4</td>\n",
       "      <td>67.99</td>\n",
       "      <td>7</td>\n",
       "      <td>23.7965</td>\n",
       "      <td>499.7265</td>\n",
       "      <td>2/17/2019</td>\n",
       "      <td>16:50</td>\n",
       "      <td>1</td>\n",
       "      <td>475.93</td>\n",
       "      <td>4.761905</td>\n",
       "      <td>23.7965</td>\n",
       "      <td>5.7</td>\n",
       "    </tr>\n",
       "    <tr>\n",
       "      <th>773</th>\n",
       "      <td>471-06-8611</td>\n",
       "      <td>2</td>\n",
       "      <td>2</td>\n",
       "      <td>2</td>\n",
       "      <td>1</td>\n",
       "      <td>5</td>\n",
       "      <td>52.42</td>\n",
       "      <td>1</td>\n",
       "      <td>2.6210</td>\n",
       "      <td>55.0410</td>\n",
       "      <td>2/6/2019</td>\n",
       "      <td>10:22</td>\n",
       "      <td>3</td>\n",
       "      <td>52.42</td>\n",
       "      <td>4.761905</td>\n",
       "      <td>2.6210</td>\n",
       "      <td>6.3</td>\n",
       "    </tr>\n",
       "    <tr>\n",
       "      <th>774</th>\n",
       "      <td>200-16-5952</td>\n",
       "      <td>2</td>\n",
       "      <td>2</td>\n",
       "      <td>1</td>\n",
       "      <td>2</td>\n",
       "      <td>5</td>\n",
       "      <td>65.65</td>\n",
       "      <td>2</td>\n",
       "      <td>6.5650</td>\n",
       "      <td>137.8650</td>\n",
       "      <td>1/17/2019</td>\n",
       "      <td>16:46</td>\n",
       "      <td>2</td>\n",
       "      <td>131.30</td>\n",
       "      <td>4.761905</td>\n",
       "      <td>6.5650</td>\n",
       "      <td>6.0</td>\n",
       "    </tr>\n",
       "    <tr>\n",
       "      <th>775</th>\n",
       "      <td>120-54-2248</td>\n",
       "      <td>3</td>\n",
       "      <td>3</td>\n",
       "      <td>2</td>\n",
       "      <td>1</td>\n",
       "      <td>5</td>\n",
       "      <td>28.86</td>\n",
       "      <td>5</td>\n",
       "      <td>7.2150</td>\n",
       "      <td>151.5150</td>\n",
       "      <td>1/22/2019</td>\n",
       "      <td>18:08</td>\n",
       "      <td>3</td>\n",
       "      <td>144.30</td>\n",
       "      <td>4.761905</td>\n",
       "      <td>7.2150</td>\n",
       "      <td>8.0</td>\n",
       "    </tr>\n",
       "    <tr>\n",
       "      <th>776</th>\n",
       "      <td>102-77-2261</td>\n",
       "      <td>2</td>\n",
       "      <td>2</td>\n",
       "      <td>1</td>\n",
       "      <td>2</td>\n",
       "      <td>1</td>\n",
       "      <td>65.31</td>\n",
       "      <td>7</td>\n",
       "      <td>22.8585</td>\n",
       "      <td>480.0285</td>\n",
       "      <td>3/5/2019</td>\n",
       "      <td>18:02</td>\n",
       "      <td>3</td>\n",
       "      <td>457.17</td>\n",
       "      <td>4.761905</td>\n",
       "      <td>22.8585</td>\n",
       "      <td>4.2</td>\n",
       "    </tr>\n",
       "  </tbody>\n",
       "</table>\n",
       "<p>777 rows × 17 columns</p>\n",
       "</div>"
      ],
      "text/plain": [
       "      Invoice ID  Branch  City  Customer_type  Gender  Product_line  \\\n",
       "0    750-67-8428       1     1              1       1             1   \n",
       "1    226-31-3081       2     2              2       1             2   \n",
       "2    631-41-3108       1     1              2       2             3   \n",
       "3    123-19-1176       1     1              1       2             1   \n",
       "4    373-73-7910       1     1              2       2             4   \n",
       "..           ...     ...   ...            ...     ...           ...   \n",
       "772  201-63-8275       2     2              1       1             4   \n",
       "773  471-06-8611       2     2              2       1             5   \n",
       "774  200-16-5952       2     2              1       2             5   \n",
       "775  120-54-2248       3     3              2       1             5   \n",
       "776  102-77-2261       2     2              1       2             1   \n",
       "\n",
       "     Unit_price  Quantity      Tax     Total       Date   Time  Payment  \\\n",
       "0         74.69         7  26.1415  548.9715   1/5/2019  13:08        1   \n",
       "1         15.28         5   3.8200   80.2200   3/8/2019  10:29        2   \n",
       "2         46.33         7  16.2155  340.5255   3/3/2019  13:23        3   \n",
       "3         58.22         8  23.2880  489.0480  1/27/2019  20:33        1   \n",
       "4         86.31         7  30.2085  634.3785   2/8/2019  10:37        1   \n",
       "..          ...       ...      ...       ...        ...    ...      ...   \n",
       "772       67.99         7  23.7965  499.7265  2/17/2019  16:50        1   \n",
       "773       52.42         1   2.6210   55.0410   2/6/2019  10:22        3   \n",
       "774       65.65         2   6.5650  137.8650  1/17/2019  16:46        2   \n",
       "775       28.86         5   7.2150  151.5150  1/22/2019  18:08        3   \n",
       "776       65.31         7  22.8585  480.0285   3/5/2019  18:02        3   \n",
       "\n",
       "       cogs  gross margin percentage  gross income  Rating  \n",
       "0    522.83                 4.761905       26.1415     9.1  \n",
       "1     76.40                 4.761905        3.8200     9.6  \n",
       "2    324.31                 4.761905       16.2155     7.4  \n",
       "3    465.76                 4.761905       23.2880     8.4  \n",
       "4    604.17                 4.761905       30.2085     5.3  \n",
       "..      ...                      ...           ...     ...  \n",
       "772  475.93                 4.761905       23.7965     5.7  \n",
       "773   52.42                 4.761905        2.6210     6.3  \n",
       "774  131.30                 4.761905        6.5650     6.0  \n",
       "775  144.30                 4.761905        7.2150     8.0  \n",
       "776  457.17                 4.761905       22.8585     4.2  \n",
       "\n",
       "[777 rows x 17 columns]"
      ]
     },
     "execution_count": 159,
     "metadata": {},
     "output_type": "execute_result"
    }
   ],
   "source": [
    "df.head(777)"
   ]
  },
  {
   "cell_type": "code",
   "execution_count": 160,
   "id": "32c1c94a",
   "metadata": {},
   "outputs": [],
   "source": [
    "x = df [['Product_line', 'Customer_type']]"
   ]
  },
  {
   "cell_type": "code",
   "execution_count": 161,
   "id": "b036eb6f",
   "metadata": {},
   "outputs": [],
   "source": [
    "y = df ['Total']"
   ]
  },
  {
   "cell_type": "code",
   "execution_count": 162,
   "id": "22aade95",
   "metadata": {},
   "outputs": [
    {
     "data": {
      "image/png": "[encoded data removed]",
      "text/plain": [
       "<Figure size 432x288 with 1 Axes>"
      ]
     },
     "metadata": {
      "needs_background": "light"
     },
     "output_type": "display_data"
    }
   ],
   "source": [
    "plt.scatter(x['Product_line'], y)\n",
    "\n",
    "plt.xlabel('Product_line', fontsize=15)\n",
    "plt.xlabel('Total', fontsize=15)\n",
    "\n",
    "plt.show()"
   ]
  },
  {
   "cell_type": "code",
   "execution_count": 163,
   "id": "4bce1edf",
   "metadata": {},
   "outputs": [
    {
     "data": {
      "image/png": "[encoded data removed]",
      "text/plain": [
       "<Figure size 432x288 with 1 Axes>"
      ]
     },
     "metadata": {
      "needs_background": "light"
     },
     "output_type": "display_data"
    }
   ],
   "source": [
    "plt.scatter(x['Customer_type'], y)\n",
    "\n",
    "plt.xlabel('Customer_type', fontsize=15)\n",
    "plt.xlabel('Total', fontsize=15)\n",
    "\n",
    "plt.show()"
   ]
  },
  {
   "cell_type": "code",
   "execution_count": 164,
   "id": "3369e744",
   "metadata": {},
   "outputs": [
    {
     "data": {
      "text/plain": [
       "LinearRegression()"
      ]
     },
     "execution_count": 164,
     "metadata": {},
     "output_type": "execute_result"
    }
   ],
   "source": [
    "reg = LinearRegression()\n",
    "reg.fit(x,y)"
   ]
  },
  {
   "cell_type": "code",
   "execution_count": 165,
   "id": "5d0c244b",
   "metadata": {},
   "outputs": [
    {
     "data": {
      "text/plain": [
       "347.61673123796913"
      ]
     },
     "execution_count": 165,
     "metadata": {},
     "output_type": "execute_result"
    }
   ],
   "source": [
    "reg.intercept_"
   ]
  },
  {
   "cell_type": "code",
   "execution_count": 166,
   "id": "0e360bbf",
   "metadata": {},
   "outputs": [
    {
     "data": {
      "text/plain": [
       "array([-2.74329676, -9.90356212])"
      ]
     },
     "execution_count": 166,
     "metadata": {},
     "output_type": "execute_result"
    }
   ],
   "source": [
    "reg.coef_"
   ]
  },
  {
   "cell_type": "code",
   "execution_count": 167,
   "id": "d23a6242",
   "metadata": {},
   "outputs": [
    {
     "data": {
      "text/plain": [
       "0.0007495890383953929"
      ]
     },
     "execution_count": 167,
     "metadata": {},
     "output_type": "execute_result"
    }
   ],
   "source": [
    "reg.score(x,y)"
   ]
  },
  {
   "cell_type": "code",
   "execution_count": 168,
   "id": "7ed980a1",
   "metadata": {},
   "outputs": [
    {
     "data": {
      "text/plain": [
       "(1000, 2)"
      ]
     },
     "execution_count": 168,
     "metadata": {},
     "output_type": "execute_result"
    }
   ],
   "source": [
    "x.shape"
   ]
  },
  {
   "cell_type": "code",
   "execution_count": 169,
   "id": "0e76af77",
   "metadata": {},
   "outputs": [
    {
     "data": {
      "text/plain": [
       "-0.0012549253266229687"
      ]
     },
     "execution_count": 169,
     "metadata": {},
     "output_type": "execute_result"
    }
   ],
   "source": [
    "#düzeltilmiş r kareyi bulmak için, r kareyi, gözlem sayısını ve özellik sayısını bilmeliyiz\n",
    "r2= reg.score(x,y)\n",
    "\n",
    "#gözlem sayısı  (n), eksen 0 boyunca olan şekildir\n",
    "n=x.shape[0]\n",
    "\n",
    "#özellik sayısı (öngörücüler , p) eksen 1 boyunca şeklidir\n",
    "p= x.shape[1]\n",
    "\n",
    "#düzeltilmiş r kareyi aşağıdaki formulle buluruz\n",
    "düzeltilmis_r2= 1-(1-r2)*(n-1)/(n-p-1)\n",
    "düzeltilmis_r2"
   ]
  },
  {
   "cell_type": "code",
   "execution_count": 170,
   "id": "5347e8dc",
   "metadata": {},
   "outputs": [
    {
     "data": {
      "text/html": [
       "<div>\n",
       "<style scoped>\n",
       "    .dataframe tbody tr th:only-of-type {\n",
       "        vertical-align: middle;\n",
       "    }\n",
       "\n",
       "    .dataframe tbody tr th {\n",
       "        vertical-align: top;\n",
       "    }\n",
       "\n",
       "    .dataframe thead th {\n",
       "        text-align: right;\n",
       "    }\n",
       "</style>\n",
       "<table border=\"1\" class=\"dataframe\">\n",
       "  <thead>\n",
       "    <tr style=\"text-align: right;\">\n",
       "      <th></th>\n",
       "      <th>Invoice ID</th>\n",
       "      <th>Branch</th>\n",
       "      <th>City</th>\n",
       "      <th>Customer_type</th>\n",
       "      <th>Gender</th>\n",
       "      <th>Product_line</th>\n",
       "      <th>Unit_price</th>\n",
       "      <th>Quantity</th>\n",
       "      <th>Tax</th>\n",
       "      <th>Total</th>\n",
       "      <th>Date</th>\n",
       "      <th>Time</th>\n",
       "      <th>Payment</th>\n",
       "      <th>cogs</th>\n",
       "      <th>gross margin percentage</th>\n",
       "      <th>gross income</th>\n",
       "      <th>Rating</th>\n",
       "    </tr>\n",
       "  </thead>\n",
       "  <tbody>\n",
       "    <tr>\n",
       "      <th>0</th>\n",
       "      <td>750-67-8428</td>\n",
       "      <td>1</td>\n",
       "      <td>1</td>\n",
       "      <td>1</td>\n",
       "      <td>1</td>\n",
       "      <td>1</td>\n",
       "      <td>74.69</td>\n",
       "      <td>7</td>\n",
       "      <td>26.1415</td>\n",
       "      <td>548.9715</td>\n",
       "      <td>1/5/2019</td>\n",
       "      <td>13:08</td>\n",
       "      <td>1</td>\n",
       "      <td>522.83</td>\n",
       "      <td>4.761905</td>\n",
       "      <td>26.1415</td>\n",
       "      <td>9.1</td>\n",
       "    </tr>\n",
       "    <tr>\n",
       "      <th>1</th>\n",
       "      <td>226-31-3081</td>\n",
       "      <td>2</td>\n",
       "      <td>2</td>\n",
       "      <td>2</td>\n",
       "      <td>1</td>\n",
       "      <td>2</td>\n",
       "      <td>15.28</td>\n",
       "      <td>5</td>\n",
       "      <td>3.8200</td>\n",
       "      <td>80.2200</td>\n",
       "      <td>3/8/2019</td>\n",
       "      <td>10:29</td>\n",
       "      <td>2</td>\n",
       "      <td>76.40</td>\n",
       "      <td>4.761905</td>\n",
       "      <td>3.8200</td>\n",
       "      <td>9.6</td>\n",
       "    </tr>\n",
       "    <tr>\n",
       "      <th>2</th>\n",
       "      <td>631-41-3108</td>\n",
       "      <td>1</td>\n",
       "      <td>1</td>\n",
       "      <td>2</td>\n",
       "      <td>2</td>\n",
       "      <td>3</td>\n",
       "      <td>46.33</td>\n",
       "      <td>7</td>\n",
       "      <td>16.2155</td>\n",
       "      <td>340.5255</td>\n",
       "      <td>3/3/2019</td>\n",
       "      <td>13:23</td>\n",
       "      <td>3</td>\n",
       "      <td>324.31</td>\n",
       "      <td>4.761905</td>\n",
       "      <td>16.2155</td>\n",
       "      <td>7.4</td>\n",
       "    </tr>\n",
       "    <tr>\n",
       "      <th>3</th>\n",
       "      <td>123-19-1176</td>\n",
       "      <td>1</td>\n",
       "      <td>1</td>\n",
       "      <td>1</td>\n",
       "      <td>2</td>\n",
       "      <td>1</td>\n",
       "      <td>58.22</td>\n",
       "      <td>8</td>\n",
       "      <td>23.2880</td>\n",
       "      <td>489.0480</td>\n",
       "      <td>1/27/2019</td>\n",
       "      <td>20:33</td>\n",
       "      <td>1</td>\n",
       "      <td>465.76</td>\n",
       "      <td>4.761905</td>\n",
       "      <td>23.2880</td>\n",
       "      <td>8.4</td>\n",
       "    </tr>\n",
       "    <tr>\n",
       "      <th>4</th>\n",
       "      <td>373-73-7910</td>\n",
       "      <td>1</td>\n",
       "      <td>1</td>\n",
       "      <td>2</td>\n",
       "      <td>2</td>\n",
       "      <td>4</td>\n",
       "      <td>86.31</td>\n",
       "      <td>7</td>\n",
       "      <td>30.2085</td>\n",
       "      <td>634.3785</td>\n",
       "      <td>2/8/2019</td>\n",
       "      <td>10:37</td>\n",
       "      <td>1</td>\n",
       "      <td>604.17</td>\n",
       "      <td>4.761905</td>\n",
       "      <td>30.2085</td>\n",
       "      <td>5.3</td>\n",
       "    </tr>\n",
       "    <tr>\n",
       "      <th>...</th>\n",
       "      <td>...</td>\n",
       "      <td>...</td>\n",
       "      <td>...</td>\n",
       "      <td>...</td>\n",
       "      <td>...</td>\n",
       "      <td>...</td>\n",
       "      <td>...</td>\n",
       "      <td>...</td>\n",
       "      <td>...</td>\n",
       "      <td>...</td>\n",
       "      <td>...</td>\n",
       "      <td>...</td>\n",
       "      <td>...</td>\n",
       "      <td>...</td>\n",
       "      <td>...</td>\n",
       "      <td>...</td>\n",
       "      <td>...</td>\n",
       "    </tr>\n",
       "    <tr>\n",
       "      <th>772</th>\n",
       "      <td>201-63-8275</td>\n",
       "      <td>2</td>\n",
       "      <td>2</td>\n",
       "      <td>1</td>\n",
       "      <td>1</td>\n",
       "      <td>4</td>\n",
       "      <td>67.99</td>\n",
       "      <td>7</td>\n",
       "      <td>23.7965</td>\n",
       "      <td>499.7265</td>\n",
       "      <td>2/17/2019</td>\n",
       "      <td>16:50</td>\n",
       "      <td>1</td>\n",
       "      <td>475.93</td>\n",
       "      <td>4.761905</td>\n",
       "      <td>23.7965</td>\n",
       "      <td>5.7</td>\n",
       "    </tr>\n",
       "    <tr>\n",
       "      <th>773</th>\n",
       "      <td>471-06-8611</td>\n",
       "      <td>2</td>\n",
       "      <td>2</td>\n",
       "      <td>2</td>\n",
       "      <td>1</td>\n",
       "      <td>5</td>\n",
       "      <td>52.42</td>\n",
       "      <td>1</td>\n",
       "      <td>2.6210</td>\n",
       "      <td>55.0410</td>\n",
       "      <td>2/6/2019</td>\n",
       "      <td>10:22</td>\n",
       "      <td>3</td>\n",
       "      <td>52.42</td>\n",
       "      <td>4.761905</td>\n",
       "      <td>2.6210</td>\n",
       "      <td>6.3</td>\n",
       "    </tr>\n",
       "    <tr>\n",
       "      <th>774</th>\n",
       "      <td>200-16-5952</td>\n",
       "      <td>2</td>\n",
       "      <td>2</td>\n",
       "      <td>1</td>\n",
       "      <td>2</td>\n",
       "      <td>5</td>\n",
       "      <td>65.65</td>\n",
       "      <td>2</td>\n",
       "      <td>6.5650</td>\n",
       "      <td>137.8650</td>\n",
       "      <td>1/17/2019</td>\n",
       "      <td>16:46</td>\n",
       "      <td>2</td>\n",
       "      <td>131.30</td>\n",
       "      <td>4.761905</td>\n",
       "      <td>6.5650</td>\n",
       "      <td>6.0</td>\n",
       "    </tr>\n",
       "    <tr>\n",
       "      <th>775</th>\n",
       "      <td>120-54-2248</td>\n",
       "      <td>3</td>\n",
       "      <td>3</td>\n",
       "      <td>2</td>\n",
       "      <td>1</td>\n",
       "      <td>5</td>\n",
       "      <td>28.86</td>\n",
       "      <td>5</td>\n",
       "      <td>7.2150</td>\n",
       "      <td>151.5150</td>\n",
       "      <td>1/22/2019</td>\n",
       "      <td>18:08</td>\n",
       "      <td>3</td>\n",
       "      <td>144.30</td>\n",
       "      <td>4.761905</td>\n",
       "      <td>7.2150</td>\n",
       "      <td>8.0</td>\n",
       "    </tr>\n",
       "    <tr>\n",
       "      <th>776</th>\n",
       "      <td>102-77-2261</td>\n",
       "      <td>2</td>\n",
       "      <td>2</td>\n",
       "      <td>1</td>\n",
       "      <td>2</td>\n",
       "      <td>1</td>\n",
       "      <td>65.31</td>\n",
       "      <td>7</td>\n",
       "      <td>22.8585</td>\n",
       "      <td>480.0285</td>\n",
       "      <td>3/5/2019</td>\n",
       "      <td>18:02</td>\n",
       "      <td>3</td>\n",
       "      <td>457.17</td>\n",
       "      <td>4.761905</td>\n",
       "      <td>22.8585</td>\n",
       "      <td>4.2</td>\n",
       "    </tr>\n",
       "  </tbody>\n",
       "</table>\n",
       "<p>777 rows × 17 columns</p>\n",
       "</div>"
      ],
      "text/plain": [
       "      Invoice ID  Branch  City  Customer_type  Gender  Product_line  \\\n",
       "0    750-67-8428       1     1              1       1             1   \n",
       "1    226-31-3081       2     2              2       1             2   \n",
       "2    631-41-3108       1     1              2       2             3   \n",
       "3    123-19-1176       1     1              1       2             1   \n",
       "4    373-73-7910       1     1              2       2             4   \n",
       "..           ...     ...   ...            ...     ...           ...   \n",
       "772  201-63-8275       2     2              1       1             4   \n",
       "773  471-06-8611       2     2              2       1             5   \n",
       "774  200-16-5952       2     2              1       2             5   \n",
       "775  120-54-2248       3     3              2       1             5   \n",
       "776  102-77-2261       2     2              1       2             1   \n",
       "\n",
       "     Unit_price  Quantity      Tax     Total       Date   Time  Payment  \\\n",
       "0         74.69         7  26.1415  548.9715   1/5/2019  13:08        1   \n",
       "1         15.28         5   3.8200   80.2200   3/8/2019  10:29        2   \n",
       "2         46.33         7  16.2155  340.5255   3/3/2019  13:23        3   \n",
       "3         58.22         8  23.2880  489.0480  1/27/2019  20:33        1   \n",
       "4         86.31         7  30.2085  634.3785   2/8/2019  10:37        1   \n",
       "..          ...       ...      ...       ...        ...    ...      ...   \n",
       "772       67.99         7  23.7965  499.7265  2/17/2019  16:50        1   \n",
       "773       52.42         1   2.6210   55.0410   2/6/2019  10:22        3   \n",
       "774       65.65         2   6.5650  137.8650  1/17/2019  16:46        2   \n",
       "775       28.86         5   7.2150  151.5150  1/22/2019  18:08        3   \n",
       "776       65.31         7  22.8585  480.0285   3/5/2019  18:02        3   \n",
       "\n",
       "       cogs  gross margin percentage  gross income  Rating  \n",
       "0    522.83                 4.761905       26.1415     9.1  \n",
       "1     76.40                 4.761905        3.8200     9.6  \n",
       "2    324.31                 4.761905       16.2155     7.4  \n",
       "3    465.76                 4.761905       23.2880     8.4  \n",
       "4    604.17                 4.761905       30.2085     5.3  \n",
       "..      ...                      ...           ...     ...  \n",
       "772  475.93                 4.761905       23.7965     5.7  \n",
       "773   52.42                 4.761905        2.6210     6.3  \n",
       "774  131.30                 4.761905        6.5650     6.0  \n",
       "775  144.30                 4.761905        7.2150     8.0  \n",
       "776  457.17                 4.761905       22.8585     4.2  \n",
       "\n",
       "[777 rows x 17 columns]"
      ]
     },
     "execution_count": 170,
     "metadata": {},
     "output_type": "execute_result"
    }
   ],
   "source": [
    "df.head(777)"
   ]
  },
  {
   "cell_type": "code",
   "execution_count": 171,
   "id": "20f977a4",
   "metadata": {},
   "outputs": [
    {
     "data": {
      "text/plain": [
       "array([334.96987236])"
      ]
     },
     "execution_count": 171,
     "metadata": {},
     "output_type": "execute_result"
    }
   ],
   "source": [
    "reg.predict([[1,1]]) "
   ]
  },
  {
   "cell_type": "code",
   "execution_count": 172,
   "id": "c794cd3d",
   "metadata": {},
   "outputs": [
    {
     "data": {
      "text/plain": [
       "array([332.2265756])"
      ]
     },
     "execution_count": 172,
     "metadata": {},
     "output_type": "execute_result"
    }
   ],
   "source": [
    "reg.predict([[2,1]]) "
   ]
  },
  {
   "cell_type": "code",
   "execution_count": 173,
   "id": "f538b39e",
   "metadata": {},
   "outputs": [
    {
     "data": {
      "text/plain": [
       "array([329.48327884])"
      ]
     },
     "execution_count": 173,
     "metadata": {},
     "output_type": "execute_result"
    }
   ],
   "source": [
    "reg.predict([[3,1]]) "
   ]
  },
  {
   "cell_type": "code",
   "execution_count": 174,
   "id": "f6da2e3e",
   "metadata": {},
   "outputs": [
    {
     "data": {
      "text/plain": [
       "array([326.73998208])"
      ]
     },
     "execution_count": 174,
     "metadata": {},
     "output_type": "execute_result"
    }
   ],
   "source": [
    "reg.predict([[4,1]]) "
   ]
  },
  {
   "cell_type": "code",
   "execution_count": 175,
   "id": "eaa29959",
   "metadata": {},
   "outputs": [
    {
     "data": {
      "text/plain": [
       "array([323.99668532])"
      ]
     },
     "execution_count": 175,
     "metadata": {},
     "output_type": "execute_result"
    }
   ],
   "source": [
    "reg.predict([[5,1]]) "
   ]
  },
  {
   "cell_type": "code",
   "execution_count": 176,
   "id": "52d92e03",
   "metadata": {},
   "outputs": [
    {
     "data": {
      "text/plain": [
       "array([321.25338856])"
      ]
     },
     "execution_count": 176,
     "metadata": {},
     "output_type": "execute_result"
    }
   ],
   "source": [
    "reg.predict([[6,1]]) "
   ]
  },
  {
   "cell_type": "code",
   "execution_count": 177,
   "id": "bfed2809",
   "metadata": {},
   "outputs": [
    {
     "data": {
      "text/plain": [
       "array([325.06631023])"
      ]
     },
     "execution_count": 177,
     "metadata": {},
     "output_type": "execute_result"
    }
   ],
   "source": [
    "reg.predict([[1,2]]) "
   ]
  },
  {
   "cell_type": "code",
   "execution_count": 178,
   "id": "85e71b02",
   "metadata": {},
   "outputs": [
    {
     "data": {
      "text/plain": [
       "array([322.32301347])"
      ]
     },
     "execution_count": 178,
     "metadata": {},
     "output_type": "execute_result"
    }
   ],
   "source": [
    "reg.predict([[2,2]]) "
   ]
  },
  {
   "cell_type": "code",
   "execution_count": 179,
   "id": "eec1e75c",
   "metadata": {},
   "outputs": [
    {
     "data": {
      "text/plain": [
       "array([319.57971672])"
      ]
     },
     "execution_count": 179,
     "metadata": {},
     "output_type": "execute_result"
    }
   ],
   "source": [
    "reg.predict([[3,2]]) "
   ]
  },
  {
   "cell_type": "code",
   "execution_count": 180,
   "id": "63760e28",
   "metadata": {},
   "outputs": [
    {
     "data": {
      "text/plain": [
       "array([316.83641996])"
      ]
     },
     "execution_count": 180,
     "metadata": {},
     "output_type": "execute_result"
    }
   ],
   "source": [
    "reg.predict([[4,2]]) "
   ]
  },
  {
   "cell_type": "code",
   "execution_count": 181,
   "id": "e81f169f",
   "metadata": {},
   "outputs": [
    {
     "data": {
      "text/plain": [
       "array([314.0931232])"
      ]
     },
     "execution_count": 181,
     "metadata": {},
     "output_type": "execute_result"
    }
   ],
   "source": [
    "reg.predict([[5,2]]) "
   ]
  },
  {
   "cell_type": "code",
   "execution_count": 182,
   "id": "5d715b21",
   "metadata": {},
   "outputs": [
    {
     "data": {
      "text/plain": [
       "array([311.34982644])"
      ]
     },
     "execution_count": 182,
     "metadata": {},
     "output_type": "execute_result"
    }
   ],
   "source": [
    "reg.predict([[6,2]]) "
   ]
  },
  {
   "cell_type": "code",
   "execution_count": 183,
   "id": "140ed2a7",
   "metadata": {},
   "outputs": [
    {
     "data": {
      "text/plain": [
       "array([0.5580581 , 0.53439496])"
      ]
     },
     "execution_count": 183,
     "metadata": {},
     "output_type": "execute_result"
    }
   ],
   "source": [
    "p_values= f_regression(x,y) [1]\n",
    "p_values"
   ]
  },
  {
   "cell_type": "code",
   "execution_count": 184,
   "id": "fc9d59c6",
   "metadata": {},
   "outputs": [
    {
     "data": {
      "text/plain": [
       "array([0.558, 0.534])"
      ]
     },
     "execution_count": 184,
     "metadata": {},
     "output_type": "execute_result"
    }
   ],
   "source": [
    "p_values.round(3)"
   ]
  },
  {
   "cell_type": "code",
   "execution_count": 185,
   "id": "35aaa99d",
   "metadata": {},
   "outputs": [
    {
     "data": {
      "text/html": [
       "<div>\n",
       "<style scoped>\n",
       "    .dataframe tbody tr th:only-of-type {\n",
       "        vertical-align: middle;\n",
       "    }\n",
       "\n",
       "    .dataframe tbody tr th {\n",
       "        vertical-align: top;\n",
       "    }\n",
       "\n",
       "    .dataframe thead th {\n",
       "        text-align: right;\n",
       "    }\n",
       "</style>\n",
       "<table border=\"1\" class=\"dataframe\">\n",
       "  <thead>\n",
       "    <tr style=\"text-align: right;\">\n",
       "      <th></th>\n",
       "      <th>özellik</th>\n",
       "      <th>Katsayılar</th>\n",
       "      <th>p-değerleri</th>\n",
       "    </tr>\n",
       "  </thead>\n",
       "  <tbody>\n",
       "    <tr>\n",
       "      <th>0</th>\n",
       "      <td>Product_line</td>\n",
       "      <td>-2.743297</td>\n",
       "      <td>0.558</td>\n",
       "    </tr>\n",
       "    <tr>\n",
       "      <th>1</th>\n",
       "      <td>Customer_type</td>\n",
       "      <td>-9.903562</td>\n",
       "      <td>0.534</td>\n",
       "    </tr>\n",
       "  </tbody>\n",
       "</table>\n",
       "</div>"
      ],
      "text/plain": [
       "         özellik  Katsayılar  p-değerleri\n",
       "0   Product_line   -2.743297        0.558\n",
       "1  Customer_type   -9.903562        0.534"
      ]
     },
     "execution_count": 185,
     "metadata": {},
     "output_type": "execute_result"
    }
   ],
   "source": [
    "reg_summary= pd.DataFrame(data= x.columns.values, columns= ['özellik'])\n",
    "reg_summary ['Katsayılar'] = reg.coef_\n",
    "reg_summary ['p-değerleri'] = p_values.round(3)\n",
    "reg_summary\n"
   ]
  },
  {
   "cell_type": "code",
   "execution_count": 193,
   "id": "1d8b008b",
   "metadata": {},
   "outputs": [],
   "source": [
    "#görünüşe göre Product_line ve Customer_type istatiksel olarak anlamlıdır ve datadan cıkarılmamalıdır."
   ]
  },
  {
   "cell_type": "code",
   "execution_count": null,
   "id": "aa1d110c",
   "metadata": {},
   "outputs": [],
   "source": []
  },
  {
   "cell_type": "code",
   "execution_count": null,
   "id": "953ab06c",
   "metadata": {},
   "outputs": [],
   "source": []
  }
 ],
 "metadata": {
  "kernelspec": {
   "display_name": "Python 3 (ipykernel)",
   "language": "python",
   "name": "python3"
  },
  "language_info": {
   "codemirror_mode": {
    "name": "ipython",
    "version": 3
   },
   "file_extension": ".py",
   "mimetype": "text/x-python",
   "name": "python",
   "nbconvert_exporter": "python",
   "pygments_lexer": "ipython3",
   "version": "3.9.12"
  }
 },
 "nbformat": 4,
 "nbformat_minor": 5
}
